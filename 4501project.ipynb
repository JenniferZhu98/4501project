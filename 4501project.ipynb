{
 "cells": [
  {
   "cell_type": "markdown",
   "id": "67bd2e04",
   "metadata": {},
   "source": [
    "# IEOR4501 Final Project\n",
    "#### Zhengyi Zhu (zz2875), Binghao Guo (bg2781), Mike Cellini (mjc2328)"
   ]
  },
  {
   "cell_type": "markdown",
   "id": "f113ace4",
   "metadata": {},
   "source": [
    "## Project setup"
   ]
  },
  {
   "cell_type": "code",
   "execution_count": 1,
   "id": "fbed6deb",
   "metadata": {},
   "outputs": [],
   "source": [
    "import math\n",
    "import random\n",
    "import datetime\n",
    "import os\n",
    "from datetime import datetime, timedelta\n",
    "import re\n",
    "\n",
    "import bs4\n",
    "import requests\n",
    "import pyarrow.parquet as pq\n",
    "\n",
    "import sqlite3\n",
    "import sqlalchemy as db\n",
    "\n",
    "import matplotlib.pyplot as plt\n",
    "%matplotlib inline\n",
    "\n",
    "import numpy as np\n",
    "import pandas as pd\n",
    "import geopandas as gpd"
   ]
  },
  {
   "cell_type": "code",
   "execution_count": 2,
   "id": "07fbafd7",
   "metadata": {},
   "outputs": [],
   "source": [
    "TAXI_URL = \"https://www1.nyc.gov/site/tlc/about/tlc-trip-record-data.page\"\n",
    "\n",
    "TAXI_DATA_DIR = \"taxi_data\"\n",
    "\n",
    "TAXI_ZONES_DIR = \"taxi_zones\"\n",
    "TAXI_ZONES_SHAPEFILE = f\"{TAXI_ZONES_DIR}/taxi_zones.shp\"\n",
    "\n",
    "UBER_CSV = \"uber_rides_sample.csv\"\n",
    "WEATHER_CSV_DIR = \"weather\"\n",
    "\n",
    "# random seed for reproducibility\n",
    "random.seed(1)\n",
    "\n",
    "# coordinate reference system\n",
    "CRS = 4326\n",
    "\n",
    "# (lat, lon)\n",
    "NEW_YORK_BOX_COORDS = ((40.560445, -74.242330), (40.908524, -73.717047))\n",
    "\n",
    "LGA_BOX_COORDS = ((40.763589, -73.891745), (40.778865, -73.854838))\n",
    "JFK_BOX_COORDS = ((40.639263, -73.795642), (40.651376, -73.766264))\n",
    "EWR_BOX_COORDS = ((40.686794, -74.194028), (40.699680, -74.165205))\n",
    "\n",
    "DATABASE_URL = \"sqlite:///project.db\"\n",
    "DATABASE_SCHEMA_FILE = \"schema.sql\"\n",
    "QUERY_DIRECTORY = \"queries\""
   ]
  },
  {
   "cell_type": "code",
   "execution_count": 3,
   "id": "7b3d1e00",
   "metadata": {},
   "outputs": [],
   "source": [
    "# Make sure the QUERY_DIRECTORY exists\n",
    "try:\n",
    "    os.mkdir(QUERY_DIRECTORY)\n",
    "except Exception as e:\n",
    "    if e.errno == 17:\n",
    "        # the directory already exists\n",
    "        pass\n",
    "    else:\n",
    "        raise"
   ]
  },
  {
   "cell_type": "markdown",
   "id": "35c055ee",
   "metadata": {},
   "source": [
    "# Part I: Data Preprocessing"
   ]
  },
  {
   "cell_type": "markdown",
   "id": "7a30dcc2",
   "metadata": {},
   "source": [
    "## Load Taxi Zones"
   ]
  },
  {
   "cell_type": "code",
   "execution_count": 4,
   "id": "8653fd43",
   "metadata": {},
   "outputs": [],
   "source": [
    "# get taxi zones data as a zip file\n",
    "def get_taxi_zones_zip():\n",
    "    TAXI_ZONE_URL = \"https://d37ci6vzurychx.cloudfront.net/misc/taxi_zones.zip\"\n",
    "    try: # first check whether the file already exists\n",
    "        with open(\"taxi_zones.zip\", \"r\") as f:\n",
    "            pass\n",
    "    except: # if the file doesn't exist, then download and save the zip file\n",
    "        response = requests.get(TAXI_ZONE_URL)\n",
    "        with open(\"taxi_zones.zip\", \"wb\") as f:\n",
    "            f.write(response.content)\n",
    "    return"
   ]
  },
  {
   "cell_type": "code",
   "execution_count": 5,
   "id": "e20d28f2",
   "metadata": {},
   "outputs": [],
   "source": [
    "# download taxizones.zip from url using requests, and manually unzip the files\n",
    "get_taxi_zones_zip()"
   ]
  },
  {
   "cell_type": "code",
   "execution_count": 6,
   "id": "f7f1a6ac",
   "metadata": {},
   "outputs": [],
   "source": [
    "# load taxi_zones shapefile using geopandas\n",
    "def load_taxi_zones(shapefile):\n",
    "    taxi_zones_shapefile = gpd.read_file(shapefile)\n",
    "    return taxi_zones_shapefile"
   ]
  },
  {
   "cell_type": "code",
   "execution_count": 8,
   "id": "b6142227",
   "metadata": {},
   "outputs": [],
   "source": [
    "# load and save taxi_zones shapefile in \"loaded_taxi_zones\"\n",
    "loaded_taxi_zones = load_taxi_zones(TAXI_ZONES_SHAPEFILE)"
   ]
  },
  {
   "cell_type": "code",
   "execution_count": 8,
   "id": "accf0df4",
   "metadata": {},
   "outputs": [
    {
     "name": "stdout",
     "output_type": "stream",
     "text": [
      "(263, 7)\n"
     ]
    },
    {
     "data": {
      "text/html": [
       "<div>\n",
       "<style scoped>\n",
       "    .dataframe tbody tr th:only-of-type {\n",
       "        vertical-align: middle;\n",
       "    }\n",
       "\n",
       "    .dataframe tbody tr th {\n",
       "        vertical-align: top;\n",
       "    }\n",
       "\n",
       "    .dataframe thead th {\n",
       "        text-align: right;\n",
       "    }\n",
       "</style>\n",
       "<table border=\"1\" class=\"dataframe\">\n",
       "  <thead>\n",
       "    <tr style=\"text-align: right;\">\n",
       "      <th></th>\n",
       "      <th>OBJECTID</th>\n",
       "      <th>Shape_Leng</th>\n",
       "      <th>Shape_Area</th>\n",
       "      <th>zone</th>\n",
       "      <th>LocationID</th>\n",
       "      <th>borough</th>\n",
       "      <th>geometry</th>\n",
       "    </tr>\n",
       "  </thead>\n",
       "  <tbody>\n",
       "    <tr>\n",
       "      <th>0</th>\n",
       "      <td>1</td>\n",
       "      <td>0.116357</td>\n",
       "      <td>0.000782</td>\n",
       "      <td>Newark Airport</td>\n",
       "      <td>1</td>\n",
       "      <td>EWR</td>\n",
       "      <td>POLYGON ((933100.918 192536.086, 933091.011 19...</td>\n",
       "    </tr>\n",
       "    <tr>\n",
       "      <th>1</th>\n",
       "      <td>2</td>\n",
       "      <td>0.433470</td>\n",
       "      <td>0.004866</td>\n",
       "      <td>Jamaica Bay</td>\n",
       "      <td>2</td>\n",
       "      <td>Queens</td>\n",
       "      <td>MULTIPOLYGON (((1033269.244 172126.008, 103343...</td>\n",
       "    </tr>\n",
       "    <tr>\n",
       "      <th>2</th>\n",
       "      <td>3</td>\n",
       "      <td>0.084341</td>\n",
       "      <td>0.000314</td>\n",
       "      <td>Allerton/Pelham Gardens</td>\n",
       "      <td>3</td>\n",
       "      <td>Bronx</td>\n",
       "      <td>POLYGON ((1026308.770 256767.698, 1026495.593 ...</td>\n",
       "    </tr>\n",
       "    <tr>\n",
       "      <th>3</th>\n",
       "      <td>4</td>\n",
       "      <td>0.043567</td>\n",
       "      <td>0.000112</td>\n",
       "      <td>Alphabet City</td>\n",
       "      <td>4</td>\n",
       "      <td>Manhattan</td>\n",
       "      <td>POLYGON ((992073.467 203714.076, 992068.667 20...</td>\n",
       "    </tr>\n",
       "    <tr>\n",
       "      <th>4</th>\n",
       "      <td>5</td>\n",
       "      <td>0.092146</td>\n",
       "      <td>0.000498</td>\n",
       "      <td>Arden Heights</td>\n",
       "      <td>5</td>\n",
       "      <td>Staten Island</td>\n",
       "      <td>POLYGON ((935843.310 144283.336, 936046.565 14...</td>\n",
       "    </tr>\n",
       "  </tbody>\n",
       "</table>\n",
       "</div>"
      ],
      "text/plain": [
       "   OBJECTID  Shape_Leng  Shape_Area                     zone  LocationID  \\\n",
       "0         1    0.116357    0.000782           Newark Airport           1   \n",
       "1         2    0.433470    0.004866              Jamaica Bay           2   \n",
       "2         3    0.084341    0.000314  Allerton/Pelham Gardens           3   \n",
       "3         4    0.043567    0.000112            Alphabet City           4   \n",
       "4         5    0.092146    0.000498            Arden Heights           5   \n",
       "\n",
       "         borough                                           geometry  \n",
       "0            EWR  POLYGON ((933100.918 192536.086, 933091.011 19...  \n",
       "1         Queens  MULTIPOLYGON (((1033269.244 172126.008, 103343...  \n",
       "2          Bronx  POLYGON ((1026308.770 256767.698, 1026495.593 ...  \n",
       "3      Manhattan  POLYGON ((992073.467 203714.076, 992068.667 20...  \n",
       "4  Staten Island  POLYGON ((935843.310 144283.336, 936046.565 14...  "
      ]
     },
     "execution_count": 8,
     "metadata": {},
     "output_type": "execute_result"
    }
   ],
   "source": [
    "# check loaded_taxi_zones\n",
    "print(loaded_taxi_zones.shape)\n",
    "loaded_taxi_zones.head()"
   ]
  },
  {
   "cell_type": "code",
   "execution_count": 9,
   "id": "bd1d70a6",
   "metadata": {},
   "outputs": [],
   "source": [
    "def add_coords_for_taxi_zones(loaded_taxi_zones):\n",
    "    geo_col = loaded_taxi_zones[\"geometry\"].to_crs(4326)\n",
    "    loaded_taxi_zones[\"latitude\"] = geo_col.centroid.y\n",
    "    loaded_taxi_zones[\"longitude\"] = geo_col.centroid.x\n",
    "    return loaded_taxi_zones"
   ]
  },
  {
   "cell_type": "code",
   "execution_count": 10,
   "id": "4590d325",
   "metadata": {},
   "outputs": [
    {
     "name": "stderr",
     "output_type": "stream",
     "text": [
      "/var/folders/5z/n8xgv02j4v15tvg7n0p73xb00000gn/T/ipykernel_40059/3944803749.py:3: UserWarning: Geometry is in a geographic CRS. Results from 'centroid' are likely incorrect. Use 'GeoSeries.to_crs()' to re-project geometries to a projected CRS before this operation.\n",
      "\n",
      "  loaded_taxi_zones[\"latitude\"] = geo_col.centroid.y\n",
      "/var/folders/5z/n8xgv02j4v15tvg7n0p73xb00000gn/T/ipykernel_40059/3944803749.py:4: UserWarning: Geometry is in a geographic CRS. Results from 'centroid' are likely incorrect. Use 'GeoSeries.to_crs()' to re-project geometries to a projected CRS before this operation.\n",
      "\n",
      "  loaded_taxi_zones[\"longitude\"] = geo_col.centroid.x\n"
     ]
    }
   ],
   "source": [
    "# add latitude and longitude columns to loaded_taxi_zones, then show the top lines\n",
    "loaded_taxi_zones = add_coords_for_taxi_zones(loaded_taxi_zones)"
   ]
  },
  {
   "cell_type": "code",
   "execution_count": 11,
   "id": "86fdf40a",
   "metadata": {},
   "outputs": [],
   "source": [
    "# select relevant columns, drop duplicate columns\n",
    "loaded_taxi_zones = loaded_taxi_zones[[\"LocationID\", \"latitude\", \"longitude\"]]\n",
    "loaded_taxi_zones.drop_duplicates(subset = [\"LocationID\"], inplace = True)\n",
    "loaded_taxi_zones.sort_values(by = [\"LocationID\"], inplace = True)\n",
    "loaded_taxi_zones.reset_index(drop = True, inplace = True)"
   ]
  },
  {
   "cell_type": "code",
   "execution_count": 12,
   "id": "98b357c3",
   "metadata": {},
   "outputs": [
    {
     "name": "stdout",
     "output_type": "stream",
     "text": [
      "(260, 3)\n"
     ]
    },
    {
     "data": {
      "text/html": [
       "<div>\n",
       "<style scoped>\n",
       "    .dataframe tbody tr th:only-of-type {\n",
       "        vertical-align: middle;\n",
       "    }\n",
       "\n",
       "    .dataframe tbody tr th {\n",
       "        vertical-align: top;\n",
       "    }\n",
       "\n",
       "    .dataframe thead th {\n",
       "        text-align: right;\n",
       "    }\n",
       "</style>\n",
       "<table border=\"1\" class=\"dataframe\">\n",
       "  <thead>\n",
       "    <tr style=\"text-align: right;\">\n",
       "      <th></th>\n",
       "      <th>LocationID</th>\n",
       "      <th>latitude</th>\n",
       "      <th>longitude</th>\n",
       "    </tr>\n",
       "  </thead>\n",
       "  <tbody>\n",
       "    <tr>\n",
       "      <th>0</th>\n",
       "      <td>1</td>\n",
       "      <td>40.691831</td>\n",
       "      <td>-74.174000</td>\n",
       "    </tr>\n",
       "    <tr>\n",
       "      <th>1</th>\n",
       "      <td>2</td>\n",
       "      <td>40.616745</td>\n",
       "      <td>-73.831299</td>\n",
       "    </tr>\n",
       "    <tr>\n",
       "      <th>2</th>\n",
       "      <td>3</td>\n",
       "      <td>40.864474</td>\n",
       "      <td>-73.847422</td>\n",
       "    </tr>\n",
       "    <tr>\n",
       "      <th>3</th>\n",
       "      <td>4</td>\n",
       "      <td>40.723752</td>\n",
       "      <td>-73.976968</td>\n",
       "    </tr>\n",
       "    <tr>\n",
       "      <th>4</th>\n",
       "      <td>5</td>\n",
       "      <td>40.552659</td>\n",
       "      <td>-74.188484</td>\n",
       "    </tr>\n",
       "  </tbody>\n",
       "</table>\n",
       "</div>"
      ],
      "text/plain": [
       "   LocationID   latitude  longitude\n",
       "0           1  40.691831 -74.174000\n",
       "1           2  40.616745 -73.831299\n",
       "2           3  40.864474 -73.847422\n",
       "3           4  40.723752 -73.976968\n",
       "4           5  40.552659 -74.188484"
      ]
     },
     "execution_count": 12,
     "metadata": {},
     "output_type": "execute_result"
    }
   ],
   "source": [
    "# check cleaned loaded_taxi_zones\n",
    "print(loaded_taxi_zones.shape)\n",
    "loaded_taxi_zones.head()"
   ]
  },
  {
   "cell_type": "code",
   "execution_count": 13,
   "id": "34b5214e",
   "metadata": {},
   "outputs": [],
   "source": [
    "# compute latitude & longtitude from zone id\n",
    "def lookup_coords_for_taxi_zone_id(zone_loc_id):\n",
    "    rows = loaded_taxi_zones[loaded_taxi_zones[\"LocationID\"] == zone_loc_id]\n",
    "    lon = rows[\"longitude\"].mean()\n",
    "    lat = rows[\"latitude\"].mean()\n",
    "    return (lat, lon)"
   ]
  },
  {
   "cell_type": "markdown",
   "id": "30521776",
   "metadata": {},
   "source": [
    "## Calculate distance"
   ]
  },
  {
   "cell_type": "code",
   "execution_count": 14,
   "id": "6c9689f0",
   "metadata": {},
   "outputs": [],
   "source": [
    "# calculate distance with start and end location coords\n",
    "def calculate_distance_with_coords(from_coord, to_coord):\n",
    "    d2 = (from_coord[0] - to_coord[0])**2 + (from_coord[1] - to_coord[1])**2\n",
    "    d = math.sqrt(d2)\n",
    "    return d"
   ]
  },
  {
   "cell_type": "code",
   "execution_count": 15,
   "id": "316f551c",
   "metadata": {},
   "outputs": [],
   "source": [
    "# append \"distance\" column to dataframe\n",
    "def add_distance_column(dataframe):\n",
    "    dt_sub = dataframe[[\"start_lat\", \"start_lon\", \"end_lat\", \"end_lon\"]]\n",
    "    d = dt_sub.apply(lambda x: calculate_distance_with_coords(tuple([x[\"start_lat\"], x[\"start_lon\"]]), \\\n",
    "                                                              tuple([x[\"end_lat\"], x[\"end_lon\"]])), \\\n",
    "                     axis=1)\n",
    "    dataframe[\"distance\"] = d\n",
    "    return dataframe"
   ]
  },
  {
   "cell_type": "markdown",
   "id": "3a868f14",
   "metadata": {},
   "source": [
    "## Auxiliary functions to help clean data"
   ]
  },
  {
   "cell_type": "markdown",
   "id": "a712fd2c",
   "metadata": {},
   "source": [
    "A __\"valid\" month__ should be within __2009-01__ to __2015-06__. "
   ]
  },
  {
   "cell_type": "code",
   "execution_count": 16,
   "id": "acf562e6",
   "metadata": {},
   "outputs": [],
   "source": [
    "# auxiliary function to check whether the given year and month is within range\n",
    "def isValidYM(yr, m): \n",
    "    valid = False\n",
    "    if (yr>=2009) & (yr<=2014):\n",
    "        if (m>=1) & (m<=12):\n",
    "            valid = True\n",
    "    if (yr==2015):\n",
    "        if (m>=1) & (m<=6):\n",
    "            valid = True\n",
    "    return valid"
   ]
  },
  {
   "cell_type": "markdown",
   "id": "a7b4c07b",
   "metadata": {},
   "source": [
    "A __\"valid\" trip__ should satisfy the following requirements:\n",
    "1. start_location and end_location are __different__. (Otherwise, the trip distance is 0. )\n",
    "2. start_location and end_location are __within the range of New York__. "
   ]
  },
  {
   "cell_type": "code",
   "execution_count": 17,
   "id": "a0307fd3",
   "metadata": {},
   "outputs": [],
   "source": [
    "# auxiliary function to check whether the given trip is valid with start and end location coords\n",
    "def isValidTrip_coords(from_coord, to_coord):\n",
    "    valid = False\n",
    "    \n",
    "    min_lat = NEW_YORK_BOX_COORDS[0][0]\n",
    "    min_lon = NEW_YORK_BOX_COORDS[0][1]\n",
    "    max_lat = NEW_YORK_BOX_COORDS[1][0]\n",
    "    max_lon = NEW_YORK_BOX_COORDS[1][1]\n",
    "    \n",
    "    if ((from_coord[0] >= min_lat) & (from_coord[0] <= max_lat) \\\n",
    "        & (to_coord[0] >= min_lat) & (to_coord[0] <= max_lat) \\\n",
    "        & (from_coord[1] >= min_lon) & (from_coord[1] <= max_lon) \\\n",
    "        & (to_coord[1] >= min_lon) & (to_coord[1] <= max_lon)): \\\n",
    "        valid = True\n",
    "\n",
    "    return valid"
   ]
  },
  {
   "cell_type": "markdown",
   "id": "2c8e9b12",
   "metadata": {},
   "source": [
    "## Process Uber Data"
   ]
  },
  {
   "cell_type": "code",
   "execution_count": 18,
   "id": "339c47e6",
   "metadata": {},
   "outputs": [],
   "source": [
    "# load and clean uber data\n",
    "def load_and_clean_uber_data(csv_file):\n",
    "    # load data\n",
    "    # remove the first 2 columns since they are useless ids and datetime we have as another column\n",
    "    uber = pd.read_csv(csv_file).iloc[:, 2:]\n",
    "    \n",
    "    # remove trips with unrealistic fare_amount and passenger_count \n",
    "    uber = uber[(uber[\"fare_amount\"] > 0) & (uber[\"passenger_count\"] < 8) & (uber[\"passenger_count\"] >= 1)]\n",
    "    \n",
    "    # select and rename relevant columns\n",
    "    uber.columns = [s.lower() for s in uber.columns]\n",
    "    uber = uber[[\"pickup_datetime\", \"pickup_longitude\", \"pickup_latitude\", \"dropoff_longitude\", \"dropoff_latitude\"]]  \n",
    "     \n",
    "    uber.rename(columns={\"pickup_datetime\": \"start_datetime\", \\\n",
    "                         \"pickup_latitude\": \"start_lat\", \\\n",
    "                         \"pickup_longitude\": \"start_lon\", \\\n",
    "                         \"dropoff_latitude\": \"end_lat\", \\\n",
    "                         \"dropoff_longitude\": \"end_lon\"},\n",
    "               inplace=True)\n",
    "    \n",
    "    # format datetime as string\n",
    "    uber[\"start_datetime\"] = [x[:-4] for x in uber[\"start_datetime\"]]\n",
    "    \n",
    "    # round longitude & latitude to 6 decimals\n",
    "    cols = [\"start_lat\", \"start_lon\", \"end_lat\", \"end_lon\"]\n",
    "    uber[cols] = uber[cols].round(6)\n",
    "    \n",
    "    # select trips in the valid New York range\n",
    "    # select valid trips\n",
    "    dt_sub = uber[[\"start_lat\", \"start_lon\", \"end_lat\", \"end_lon\"]]\n",
    "    v = dt_sub.apply(lambda x: isValidTrip_coords(tuple([x[\"start_lat\"], x[\"start_lon\"]]), \\\n",
    "                                                  tuple([x[\"end_lat\"], x[\"end_lon\"]])), \\\n",
    "                     axis=1)\n",
    "    uber = uber[v]\n",
    "    \n",
    "    # rearrange the columns\n",
    "    uber = uber[[\"start_datetime\"]+cols]\n",
    "    \n",
    "    # sort by datetime, reset index\n",
    "    uber.sort_values(by=[\"start_datetime\"], inplace=True)\n",
    "    uber.reset_index(drop=True, inplace=True)\n",
    "    return uber"
   ]
  },
  {
   "cell_type": "code",
   "execution_count": 19,
   "id": "404b6c27",
   "metadata": {},
   "outputs": [],
   "source": [
    "# get(load, clean, add distance column) to uber data\n",
    "def get_uber_data():\n",
    "    uber_dataframe = load_and_clean_uber_data(UBER_CSV)\n",
    "    uber_dataframe = add_distance_column(uber_dataframe)\n",
    "    return uber_dataframe"
   ]
  },
  {
   "cell_type": "code",
   "execution_count": 73,
   "id": "91ca18c4",
   "metadata": {},
   "outputs": [],
   "source": [
    "# get uber data\n",
    "uber_data = get_uber_data()"
   ]
  },
  {
   "cell_type": "code",
   "execution_count": 74,
   "id": "1e870434",
   "metadata": {},
   "outputs": [
    {
     "name": "stdout",
     "output_type": "stream",
     "text": [
      "(194768, 6)\n"
     ]
    },
    {
     "data": {
      "text/html": [
       "<div>\n",
       "<style scoped>\n",
       "    .dataframe tbody tr th:only-of-type {\n",
       "        vertical-align: middle;\n",
       "    }\n",
       "\n",
       "    .dataframe tbody tr th {\n",
       "        vertical-align: top;\n",
       "    }\n",
       "\n",
       "    .dataframe thead th {\n",
       "        text-align: right;\n",
       "    }\n",
       "</style>\n",
       "<table border=\"1\" class=\"dataframe\">\n",
       "  <thead>\n",
       "    <tr style=\"text-align: right;\">\n",
       "      <th></th>\n",
       "      <th>start_datetime</th>\n",
       "      <th>start_lat</th>\n",
       "      <th>start_lon</th>\n",
       "      <th>end_lat</th>\n",
       "      <th>end_lon</th>\n",
       "      <th>distance</th>\n",
       "    </tr>\n",
       "  </thead>\n",
       "  <tbody>\n",
       "    <tr>\n",
       "      <th>0</th>\n",
       "      <td>2009-01-01 01:15:22</td>\n",
       "      <td>40.779456</td>\n",
       "      <td>-73.981918</td>\n",
       "      <td>40.771043</td>\n",
       "      <td>-73.957685</td>\n",
       "      <td>0.025652</td>\n",
       "    </tr>\n",
       "    <tr>\n",
       "      <th>1</th>\n",
       "      <td>2009-01-01 01:59:17</td>\n",
       "      <td>40.721389</td>\n",
       "      <td>-73.983759</td>\n",
       "      <td>40.687179</td>\n",
       "      <td>-73.994833</td>\n",
       "      <td>0.035958</td>\n",
       "    </tr>\n",
       "    <tr>\n",
       "      <th>2</th>\n",
       "      <td>2009-01-01 02:05:03</td>\n",
       "      <td>40.771254</td>\n",
       "      <td>-73.956635</td>\n",
       "      <td>40.749778</td>\n",
       "      <td>-73.991528</td>\n",
       "      <td>0.040972</td>\n",
       "    </tr>\n",
       "    <tr>\n",
       "      <th>3</th>\n",
       "      <td>2009-01-01 02:09:13</td>\n",
       "      <td>40.728020</td>\n",
       "      <td>-73.984605</td>\n",
       "      <td>40.776830</td>\n",
       "      <td>-73.955746</td>\n",
       "      <td>0.056703</td>\n",
       "    </tr>\n",
       "    <tr>\n",
       "      <th>4</th>\n",
       "      <td>2009-01-01 02:13:41</td>\n",
       "      <td>40.737425</td>\n",
       "      <td>-73.980127</td>\n",
       "      <td>40.726025</td>\n",
       "      <td>-74.009544</td>\n",
       "      <td>0.031549</td>\n",
       "    </tr>\n",
       "  </tbody>\n",
       "</table>\n",
       "</div>"
      ],
      "text/plain": [
       "        start_datetime  start_lat  start_lon    end_lat    end_lon  distance\n",
       "0  2009-01-01 01:15:22  40.779456 -73.981918  40.771043 -73.957685  0.025652\n",
       "1  2009-01-01 01:59:17  40.721389 -73.983759  40.687179 -73.994833  0.035958\n",
       "2  2009-01-01 02:05:03  40.771254 -73.956635  40.749778 -73.991528  0.040972\n",
       "3  2009-01-01 02:09:13  40.728020 -73.984605  40.776830 -73.955746  0.056703\n",
       "4  2009-01-01 02:13:41  40.737425 -73.980127  40.726025 -74.009544  0.031549"
      ]
     },
     "execution_count": 74,
     "metadata": {},
     "output_type": "execute_result"
    }
   ],
   "source": [
    "# check uber_data\n",
    "print(uber_data.shape)\n",
    "uber_data.head()"
   ]
  },
  {
   "cell_type": "markdown",
   "id": "91491a7e",
   "metadata": {},
   "source": [
    "## Process taxi data "
   ]
  },
  {
   "cell_type": "code",
   "execution_count": 22,
   "id": "b85c730b",
   "metadata": {},
   "outputs": [],
   "source": [
    "# get all urls from taxi webpage\n",
    "def get_all_urls_from_taxi_page(taxi_page):\n",
    "    response = requests.get(taxi_page)\n",
    "    html = response.content\n",
    "    soup = bs4.BeautifulSoup(html, \"html.parser\")\n",
    "    all_urls = soup.find_all(\"a\")\n",
    "    return all_urls"
   ]
  },
  {
   "cell_type": "code",
   "execution_count": 23,
   "id": "b9a1c4f3",
   "metadata": {},
   "outputs": [],
   "source": [
    "# filter yellow taxi parquet urls\n",
    "def filter_taxi_parquet_urls(all_urls):\n",
    "    all_yellow_urls = []\n",
    "    pattern = r\"Yellow\\sTaxi\\sTrip\\sRecords$\"\n",
    "    for a in all_urls:\n",
    "        if re.search(pattern, a.text):\n",
    "            all_yellow_urls.append(a[\"href\"])\n",
    "    return sorted(all_yellow_urls)"
   ]
  },
  {
   "cell_type": "code",
   "execution_count": 24,
   "id": "e56cb02b",
   "metadata": {},
   "outputs": [],
   "source": [
    "# sample, clean, add distance column and finally save csv file for the given month\n",
    "def sample_clean_addDistance_month(yr, m):\n",
    "    # load the downloaded parquet file\n",
    "    data = pq.read_table(f\"{TAXI_DATA_DIR}/yellow_tripdata_{yr}_{m}.parquet\")\n",
    "        \n",
    "    # determine what column names the parquet data of this month uses\n",
    "    colnames_list = list([\"tpep_pickup_datetime\", \"PULocationID\", \"DOLocationID\"], \\\n",
    "                         [\"Trip_Pickup_DateTime\", \"Start_Lat\", \"Start_Lon\", \"End_Lat\", \"End_Lon\"], \\\n",
    "                         [\"pickup_datetime\", \"pickup_latitude\", \"pickup_longitude\", \"dropoff_latitude\", \"dropoff_longitude\"])\n",
    "    \n",
    "    if \"tpep_pickup_datetime\" in data.column_names:\n",
    "        colnames_type = 0 \n",
    "    elif \"Trip_Pickup_DateTime\" in data.column_names:\n",
    "        colnames_type = 1\n",
    "    else:\n",
    "        colnames_type = 2\n",
    "\n",
    "    cols = colnames_list[colnames_type]\n",
    "    \n",
    "    # sampling & select relevant columns\n",
    "    sample_idx = random.sample(list(range(len(data))), 200000)\n",
    "    sample_data = data.take(sample_idx).select(cols)\n",
    "        \n",
    "    # convert parquet table to pandas dataframe, throw rows with NA values\n",
    "    df = sample_data.to_pandas()\n",
    "            \n",
    "    if (colnames_type == 0):\n",
    "        # rename the columns, modify the data types\n",
    "        # convert timestamp to string\n",
    "        pattern = r\"\\d{4}-\\d{2}-\\d{2} \\d{2}:\\d{2}:\\d{2}\"\n",
    "        ts = df[\"tpep_pickup_datetime\"].apply(lambda x: re.search(pattern, str(x)).group())\n",
    "        df[\"start_datetime\"] = ts\n",
    "        \n",
    "        # convert zone id to coords\n",
    "        from_coords = df[\"PULocationID\"].apply(lookup_coords_for_taxi_zone_id)\n",
    "        to_coords = df[\"DOLocationID\"].apply(lookup_coords_for_taxi_zone_id)\n",
    "            \n",
    "        start_lat_list, start_lon_list = list(zip(*from_coords))\n",
    "        end_lat_list, end_lon_list = list(zip(*to_coords))\n",
    "            \n",
    "        df[\"start_lat\"] = start_lat_list\n",
    "        df[\"start_lon\"] = start_lon_list\n",
    "        df[\"end_lat\"] = end_lat_list\n",
    "        df[\"end_lon\"] = end_lon_list\n",
    "        \n",
    "        df.sort_values(by = [\"start_datetime\"], inplace = True)\n",
    "        df.reset_index(drop = True, inplace = True)\n",
    "        \n",
    "    if (colnames_type==1):\n",
    "        # rename the columns\n",
    "        df.rename(columns = {\"Trip_Pickup_DateTime\": \"start_datetime\", \\\n",
    "                             \"Start_Lat\": \"start_lat\", \\\n",
    "                             \"Start_Lon\": \"start_lon\", \\\n",
    "                             \"End_Lat\": \"end_lat\", \\\n",
    "                             \"End_Lon\": \"end_lon\"}, \n",
    "                 inplace = True)\n",
    "        \n",
    "    if (colnames_type==2): \n",
    "        # rename the columns\n",
    "        df.rename(columns = {\"pickup_datetime\": \"start_datetime\", \\\n",
    "                             \"pickup_latitude\": \"start_lat\", \\\n",
    "                             \"pickup_longitude\": \"start_lon\", \\\n",
    "                             \"dropoff_latitude\": \"end_lat\", \\\n",
    "                             \"dropoff_longitude\": \"end_lon\"}, \n",
    "                 inplace = True)\n",
    "    \n",
    "    # select rows without NA values\n",
    "    df = df[~df.isnull()]\n",
    "    \n",
    "    # select valid trips\n",
    "    dt_sub = df[[\"start_lat\", \"start_lon\", \"end_lat\", \"end_lon\"]]\n",
    "    v = dt_sub.apply(lambda x: isValidTrip_coords(tuple([x[\"start_lat\"], x[\"start_lon\"]]), \\\n",
    "                                                  tuple([x[\"end_lat\"], x[\"end_lon\"]])), \\\n",
    "                     axis = 1)\n",
    "    df = df[v]\n",
    "        \n",
    "    # add distance column\n",
    "    df = add_distance_column(df)\n",
    "    df = df[df[\"distance\"] > 0]\n",
    "    \n",
    "    # order columns by name\n",
    "    cols_ordered = [\"start_datetime\", \"start_lat\", \"start_lon\", \"end_lat\", \"end_lon\", \"distance\"]\n",
    "    df = df[cols_ordered]\n",
    "    \n",
    "    # round longitudes, latitudes and distance to 6 decimals\n",
    "    cols = [\"start_lat\", \"start_lon\", \"end_lat\", \"end_lon\", \"distance\"]\n",
    "    df[cols] = df[cols].round(6)\n",
    "    \n",
    "    # sort the dataframe by datetime, reset the index\n",
    "    df.sort_values(by = [\"start_datetime\"], inplace = True)\n",
    "    df.reset_index(drop = True, inplace = True)\n",
    "    \n",
    "    # save the monthly dataframe\n",
    "    df.to_csv(f\"{TAXI_DATA_DIR}/yellow_tripdata_{yr}_{m}.csv\")\n",
    "    \n",
    "    return df"
   ]
  },
  {
   "cell_type": "code",
   "execution_count": 25,
   "id": "6f4511b9",
   "metadata": {},
   "outputs": [],
   "source": [
    "# sample, clean, add distance column and finally save csv file for the given month\n",
    "def sample_clean_addDistance_month(yr, m):\n",
    "    # load the downloaded parquet file\n",
    "    data = pq.read_table(f\"{TAXI_DATA_DIR}/yellow_tripdata_{yr}_{m}.parquet\")\n",
    "        \n",
    "    # determine what column names the parquet data of this month uses\n",
    "    colnames_list = [[\"tpep_pickup_datetime\", \"PULocationID\", \"DOLocationID\", \"tip_amount\"], \\\n",
    "                     [\"Trip_Pickup_DateTime\", \"Start_Lat\", \"Start_Lon\", \"End_Lat\", \"End_Lon\", \"Tip_Amt\"], \\\n",
    "                     [\"pickup_datetime\", \"pickup_latitude\", \"pickup_longitude\", \\\n",
    "                      \"dropoff_latitude\", \"dropoff_longitude\", \"tip_amount\"]]\n",
    "    \n",
    "    if \"tpep_pickup_datetime\" in data.column_names:\n",
    "        colnames_type = 0 \n",
    "    elif \"Trip_Pickup_DateTime\" in data.column_names:\n",
    "        colnames_type = 1\n",
    "    else:\n",
    "        colnames_type = 2\n",
    "\n",
    "    cols = colnames_list[colnames_type]\n",
    "    \n",
    "    # sampling & select relevant columns\n",
    "    sample_idx = random.sample(list(range(len(data))), 200000)\n",
    "    sample_data = data.take(sample_idx).select(cols)\n",
    "        \n",
    "    # convert parquet table to pandas dataframe, throw rows with NA values\n",
    "    df = sample_data.to_pandas()\n",
    "            \n",
    "    if (colnames_type == 0):\n",
    "        # rename the columns, modify the data types\n",
    "        # convert timestamp to string\n",
    "        pattern = r\"\\d{4}-\\d{2}-\\d{2} \\d{2}:\\d{2}:\\d{2}\"\n",
    "        ts = df[\"tpep_pickup_datetime\"].apply(lambda x: re.search(pattern, str(x)).group())\n",
    "        df[\"start_datetime\"] = ts\n",
    "        \n",
    "        # convert zone id to coords\n",
    "        from_coords = df[\"PULocationID\"].apply(lookup_coords_for_taxi_zone_id)\n",
    "        to_coords = df[\"DOLocationID\"].apply(lookup_coords_for_taxi_zone_id)\n",
    "            \n",
    "        start_lat_list, start_lon_list = list(zip(*from_coords))\n",
    "        end_lat_list, end_lon_list = list(zip(*to_coords))\n",
    "            \n",
    "        df[\"start_lat\"] = start_lat_list\n",
    "        df[\"start_lon\"] = start_lon_list\n",
    "        df[\"end_lat\"] = end_lat_list\n",
    "        df[\"end_lon\"] = end_lon_list\n",
    "        \n",
    "        df.sort_values(by = [\"start_datetime\"], inplace = True)\n",
    "        df.reset_index(drop = True, inplace = True)\n",
    "        \n",
    "    if (colnames_type==1):\n",
    "        # rename the columns\n",
    "        df.rename(columns = {\"Trip_Pickup_DateTime\": \"start_datetime\", \\\n",
    "                             \"Start_Lat\": \"start_lat\", \\\n",
    "                             \"Start_Lon\": \"start_lon\", \\\n",
    "                             \"End_Lat\": \"end_lat\", \\\n",
    "                             \"End_Lon\": \"end_lon\", \\\n",
    "                             \"Tip_Amt\": \"tip_amount\"}, \n",
    "                 inplace = True)\n",
    "        \n",
    "    if (colnames_type==2): \n",
    "        # rename the columns\n",
    "        df.rename(columns = {\"pickup_datetime\": \"start_datetime\", \\\n",
    "                             \"pickup_latitude\": \"start_lat\", \\\n",
    "                             \"pickup_longitude\": \"start_lon\", \\\n",
    "                             \"dropoff_latitude\": \"end_lat\", \\\n",
    "                             \"dropoff_longitude\": \"end_lon\"}, \n",
    "                 inplace = True)\n",
    "    \n",
    "    # select rows without NA values\n",
    "    df = df[~df.isnull()]\n",
    "    \n",
    "    # select valid trips\n",
    "    dt_sub = df[[\"start_lat\", \"start_lon\", \"end_lat\", \"end_lon\"]]\n",
    "    v = dt_sub.apply(lambda x: isValidTrip_coords(tuple([x[\"start_lat\"], x[\"start_lon\"]]), \\\n",
    "                                                  tuple([x[\"end_lat\"], x[\"end_lon\"]])), \\\n",
    "                     axis = 1)\n",
    "    df = df[v]\n",
    "        \n",
    "    # add distance column\n",
    "    df = add_distance_column(df)\n",
    "    df = df[df[\"distance\"] > 0]\n",
    "    \n",
    "    # order columns by name\n",
    "    cols_ordered = [\"start_datetime\", \"start_lat\", \"start_lon\", \"end_lat\", \"end_lon\", \"distance\", \"tip_amount\"]\n",
    "    df = df[cols_ordered]\n",
    "    \n",
    "    # round longitudes, latitudes and distance to 6 decimals\n",
    "    cols = [\"start_lat\", \"start_lon\", \"end_lat\", \"end_lon\", \"distance\"]\n",
    "    df[cols] = df[cols].round(6)\n",
    "    df[\"tip_amount\"] = df[\"tip_amount\"].round(2)\n",
    "    \n",
    "    # sort the dataframe by datetime, reset the index\n",
    "    df.sort_values(by = [\"start_datetime\"], inplace = True)\n",
    "    df.reset_index(drop = True, inplace = True)\n",
    "    \n",
    "    # save the monthly dataframe\n",
    "    df.to_csv(f\"{TAXI_DATA_DIR}/yellow_tripdata_{yr}_{m}.csv\")\n",
    "    \n",
    "    return df"
   ]
  },
  {
   "cell_type": "code",
   "execution_count": 26,
   "id": "8186a7da",
   "metadata": {},
   "outputs": [],
   "source": [
    "def get_and_clean_taxi_data(parquet_urls):\n",
    "    all_taxi_dataframes = []\n",
    "    \n",
    "    yellow_tripdata_files = os.listdir(TAXI_DATA_DIR)\n",
    "    \n",
    "    for parquet_url in parquet_urls:\n",
    "        # use named groups in regex to extract year and month\n",
    "        pattern = r\"/yellow_tripdata_(?P<year>\\d{4})-(?P<month>\\d{2})\"\n",
    "        match = re.search(pattern, parquet_url)\n",
    "        yr = match.group(\"year\")\n",
    "        m = match.group(\"month\")\n",
    "        \n",
    "        # only get and clean for valid months\n",
    "        if isValidYM(int(yr), int(m)): \n",
    "            # download parquet file with given url\n",
    "            # first check whether the parquet file has already been downloaded\n",
    "            parquet_fname = f\"yellow_tripdata_{yr}_{m}.parquet\"\n",
    "            if parquet_fname in yellow_tripdata_files: \n",
    "                pass\n",
    "            else: \n",
    "                response = requests.get(parquet_url, stream=True)\n",
    "                with open(f\"{TAXI_DATA_DIR}/yellow_tripdata_{yr}_{m}.parquet\", \"wb\") as f:\n",
    "                    for chunk in response.iter_content(chunk_size=1024): \n",
    "                        if chunk:\n",
    "                            f.write(chunk)\n",
    "            \n",
    "            # cleaning and sampling\n",
    "            # first check whether we have cleaned data of this month\n",
    "            csv_fname = f\"yellow_tripdata_{yr}_{m}.csv\"\n",
    "            if csv_fname in yellow_tripdata_files: \n",
    "                df = pd.read_csv(f\"{TAXI_DATA_DIR}/yellow_tripdata_{yr}_{m}.csv\", index_col = 0)\n",
    "            else: \n",
    "                df = sample_clean_addDistance_month(yr, m)   \n",
    "            all_taxi_dataframes.append(df)\n",
    "            \n",
    "        else:\n",
    "            continue\n",
    "            \n",
    "    # create one gigantic dataframe with data from every month needed\n",
    "    taxi_data = pd.concat(all_taxi_dataframes)\n",
    "    taxi_data.sort_values(by = [\"start_datetime\"], inplace = True)\n",
    "    taxi_data.reset_index(drop = True, inplace = True)\n",
    "    \n",
    "    return taxi_data"
   ]
  },
  {
   "cell_type": "code",
   "execution_count": 27,
   "id": "7a5553ba",
   "metadata": {},
   "outputs": [],
   "source": [
    "def get_taxi_data():\n",
    "    all_urls = get_all_urls_from_taxi_page(TAXI_URL)\n",
    "    all_yellow_urls = filter_taxi_parquet_urls(all_urls)\n",
    "    taxi_data = get_and_clean_taxi_data(all_yellow_urls)\n",
    "    return taxi_data"
   ]
  },
  {
   "cell_type": "code",
   "execution_count": 28,
   "id": "1694d698",
   "metadata": {
    "scrolled": true
   },
   "outputs": [],
   "source": [
    "# for the first time: get, sample, clean, save csv, concatenate all dataframes\n",
    "# taxi_data = get_taxi_data()"
   ]
  },
  {
   "cell_type": "code",
   "execution_count": 71,
   "id": "b6832678",
   "metadata": {},
   "outputs": [],
   "source": [
    "# read and concatenate from csv files after the first time of downloading and cleaning\n",
    "all_urls = get_all_urls_from_taxi_page(TAXI_URL)\n",
    "all_yellow_urls = filter_taxi_parquet_urls(all_urls)\n",
    "\n",
    "yellow_taxi_csv_files = [s for s in os.listdir(TAXI_DATA_DIR) if s.endswith(\".csv\")]\n",
    "all_taxi_dataframes = []\n",
    "for fname in yellow_taxi_csv_files:\n",
    "    df = pd.read_csv(f\"{TAXI_DATA_DIR}/{fname}\", index_col=0)\n",
    "    all_taxi_dataframes.append(df)\n",
    "taxi_data = pd.concat(all_taxi_dataframes)\n",
    "taxi_data.sort_values(by = [\"start_datetime\"], inplace = True)\n",
    "taxi_data.reset_index(drop = True, inplace = True)"
   ]
  },
  {
   "cell_type": "code",
   "execution_count": 72,
   "id": "20c2cb90",
   "metadata": {},
   "outputs": [
    {
     "name": "stdout",
     "output_type": "stream",
     "text": [
      "(14613478, 7)\n"
     ]
    },
    {
     "data": {
      "text/html": [
       "<div>\n",
       "<style scoped>\n",
       "    .dataframe tbody tr th:only-of-type {\n",
       "        vertical-align: middle;\n",
       "    }\n",
       "\n",
       "    .dataframe tbody tr th {\n",
       "        vertical-align: top;\n",
       "    }\n",
       "\n",
       "    .dataframe thead th {\n",
       "        text-align: right;\n",
       "    }\n",
       "</style>\n",
       "<table border=\"1\" class=\"dataframe\">\n",
       "  <thead>\n",
       "    <tr style=\"text-align: right;\">\n",
       "      <th></th>\n",
       "      <th>start_datetime</th>\n",
       "      <th>start_lat</th>\n",
       "      <th>start_lon</th>\n",
       "      <th>end_lat</th>\n",
       "      <th>end_lon</th>\n",
       "      <th>distance</th>\n",
       "      <th>tip_amount</th>\n",
       "    </tr>\n",
       "  </thead>\n",
       "  <tbody>\n",
       "    <tr>\n",
       "      <th>0</th>\n",
       "      <td>2009-01-01 00:00:30</td>\n",
       "      <td>40.728857</td>\n",
       "      <td>-73.984596</td>\n",
       "      <td>40.722528</td>\n",
       "      <td>-73.986196</td>\n",
       "      <td>0.006528</td>\n",
       "      <td>0.0</td>\n",
       "    </tr>\n",
       "    <tr>\n",
       "      <th>1</th>\n",
       "      <td>2009-01-01 00:01:46</td>\n",
       "      <td>40.733459</td>\n",
       "      <td>-73.999581</td>\n",
       "      <td>40.734307</td>\n",
       "      <td>-73.990855</td>\n",
       "      <td>0.008767</td>\n",
       "      <td>0.0</td>\n",
       "    </tr>\n",
       "    <tr>\n",
       "      <th>2</th>\n",
       "      <td>2009-01-01 00:02:04</td>\n",
       "      <td>40.743486</td>\n",
       "      <td>-73.996040</td>\n",
       "      <td>40.726504</td>\n",
       "      <td>-73.983240</td>\n",
       "      <td>0.021266</td>\n",
       "      <td>0.0</td>\n",
       "    </tr>\n",
       "    <tr>\n",
       "      <th>3</th>\n",
       "      <td>2009-01-01 00:04:43</td>\n",
       "      <td>40.759017</td>\n",
       "      <td>-73.992155</td>\n",
       "      <td>40.780733</td>\n",
       "      <td>-73.959001</td>\n",
       "      <td>0.039633</td>\n",
       "      <td>0.0</td>\n",
       "    </tr>\n",
       "    <tr>\n",
       "      <th>4</th>\n",
       "      <td>2009-01-01 00:05:09</td>\n",
       "      <td>40.765080</td>\n",
       "      <td>-73.988076</td>\n",
       "      <td>40.740205</td>\n",
       "      <td>-73.996378</td>\n",
       "      <td>0.026224</td>\n",
       "      <td>0.0</td>\n",
       "    </tr>\n",
       "  </tbody>\n",
       "</table>\n",
       "</div>"
      ],
      "text/plain": [
       "        start_datetime  start_lat  start_lon    end_lat    end_lon  distance  \\\n",
       "0  2009-01-01 00:00:30  40.728857 -73.984596  40.722528 -73.986196  0.006528   \n",
       "1  2009-01-01 00:01:46  40.733459 -73.999581  40.734307 -73.990855  0.008767   \n",
       "2  2009-01-01 00:02:04  40.743486 -73.996040  40.726504 -73.983240  0.021266   \n",
       "3  2009-01-01 00:04:43  40.759017 -73.992155  40.780733 -73.959001  0.039633   \n",
       "4  2009-01-01 00:05:09  40.765080 -73.988076  40.740205 -73.996378  0.026224   \n",
       "\n",
       "   tip_amount  \n",
       "0         0.0  \n",
       "1         0.0  \n",
       "2         0.0  \n",
       "3         0.0  \n",
       "4         0.0  "
      ]
     },
     "execution_count": 72,
     "metadata": {},
     "output_type": "execute_result"
    }
   ],
   "source": [
    "# check taxi_data\n",
    "print(taxi_data.shape) # should be slightly smaller than 200000*(12*6+6)=15600000, exactly 7 columns\n",
    "taxi_data.head()"
   ]
  },
  {
   "cell_type": "markdown",
   "id": "c7dc5470",
   "metadata": {},
   "source": [
    "## Process Weather Data"
   ]
  },
  {
   "cell_type": "code",
   "execution_count": 4,
   "id": "334c667c",
   "metadata": {},
   "outputs": [],
   "source": [
    "# get list of all csv files under the given directory\n",
    "def get_all_weather_csvs(directory):\n",
    "    filenames_in_directory = sorted(os.listdir(directory))\n",
    "    pattern = r\"\\d{4}_weather.csv\"\n",
    "    weather_csv_files = []\n",
    "    for fname in filenames_in_directory:\n",
    "        if re.search(pattern, fname):\n",
    "            data = pd.read_csv(f\"{directory}/{fname}\")\n",
    "            weather_csv_files.append(data)\n",
    "    return weather_csv_files"
   ]
  },
  {
   "cell_type": "code",
   "execution_count": 5,
   "id": "07b8628e",
   "metadata": {},
   "outputs": [],
   "source": [
    "def clean_month_weather_data_hourly(csv_file):\n",
    "    # select relevant columns \n",
    "    data = csv_file[[\"DATE\", \"HourlyWindSpeed\", \"HourlyPrecipitation\"]]\n",
    "    \n",
    "    # format datetime object into \"%Y-%m-%d %H:%M:%S\"\n",
    "    # \"2009-01-01T00:51:00\" -> \"2009-01-01 00:51:00\"\n",
    "    data[\"DATE\"] = data[\"DATE\"].apply(lambda s: s.replace(\"T\", \" \"))\n",
    "\n",
    "    # create dataframe with 365/366*24 datetime\n",
    "    \n",
    "    # get first datetime object\n",
    "    datetime_init = datetime.strptime(str(data[\"DATE\"][0]), \"%Y-%m-%d %H:%M:%S\")\n",
    "    # get 24 hours for the first day\n",
    "    firstday = []\n",
    "    for i in range(24):\n",
    "        firstday.append(datetime_init + timedelta(hours = i))\n",
    "    firstday = pd.DataFrame(firstday, columns=[\"DATE\"])\n",
    "    \n",
    "    # list of dataframes for every day\n",
    "    all_days = [firstday]\n",
    "        \n",
    "    # 366 days for leap year 2012, 181 days for first 6 months in 2015, 365 days for other years\n",
    "    if str(data[\"DATE\"][0]).startswith(\"2012\"):\n",
    "        n_days = 366\n",
    "    elif str(data[\"DATE\"][0]).startswith(\"2015\"):\n",
    "        n_days = 181\n",
    "    else:\n",
    "        n_days = 365\n",
    "        \n",
    "    # get 24 hours for every day starting from the second day\n",
    "    for n in range(1, n_days):\n",
    "        thisday = firstday[\"DATE\"].apply(lambda t: t + timedelta(days = n))\n",
    "        thisday = pd.DataFrame(thisday, columns=[\"DATE\"])\n",
    "        all_days.append(thisday)\n",
    "        \n",
    "    # concatenate all days\n",
    "    df = pd.concat(all_days, ignore_index=True)\n",
    "    # convert datetime object back to str\n",
    "    df[\"DATE\"] = df[\"DATE\"].astype(str)\n",
    "    \n",
    "    data = data.dropna(how=\"all\", subset=[\"HourlyWindSpeed\", \"HourlyPrecipitation\"])\n",
    "    res = df.merge(data, how=\"left\", on=[\"DATE\"])\n",
    "    res = res.drop_duplicates(subset=[\"DATE\"])\n",
    "    \n",
    "    return res"
   ]
  },
  {
   "cell_type": "code",
   "execution_count": 6,
   "id": "3c0dcbd2",
   "metadata": {},
   "outputs": [],
   "source": [
    "def clean_month_weather_data_daily(csv_file):\n",
    "    # select relevant columns \n",
    "    data = csv_file[[\"DATE\", \"DailyAverageWindSpeed\", \"DailyPrecipitation\"]]\n",
    "    \n",
    "    # format datetime object into \"%Y-%m-%d %H:%M:%S\"\n",
    "    # \"2009-01-01T00:51:00\" -> \"2009-01-01 00:51:00\"\n",
    "    data[\"DATE\"] = data[\"DATE\"].apply(lambda s: s.replace(\"T\", \" \"))\n",
    "\n",
    "    # create dataframe with 365/366 datetime\n",
    "    \n",
    "    # get first datetime object\n",
    "    year = str(data[\"DATE\"][0])[:4]\n",
    "    df = pd.DataFrame({\"DATE\": [year+\"-01-01 23:59:00\"]})\n",
    "    df[\"DATE\"] = pd.to_datetime(df[\"DATE\"], format = \"%Y-%m-%d %H:%M:%S\")\n",
    "    \n",
    "    # 366 days for leap year 2012, 181 days for first 6 months in 2015, 365 days for other years\n",
    "    if year==\"2012\":\n",
    "        n_days = 366\n",
    "    elif year==\"2015\":\n",
    "        n_days = 181\n",
    "    else:\n",
    "        n_days = 365\n",
    "        \n",
    "    # get 24 hours for every day starting from the second day\n",
    "    for n in range(1, n_days):\n",
    "        df.loc[len(df.index)] = [df[\"DATE\"][0] + timedelta(days = n)]\n",
    "        \n",
    "    # convert datetime back to str\n",
    "    df[\"DATE\"] = df[\"DATE\"].astype(str)\n",
    "    \n",
    "    data = data.dropna(how=\"all\", subset=[\"DailyAverageWindSpeed\", \"DailyPrecipitation\"])\n",
    "    res = df.merge(data, how=\"left\", on=[\"DATE\"])\n",
    "\n",
    "    return res"
   ]
  },
  {
   "cell_type": "code",
   "execution_count": 7,
   "id": "ac21daac",
   "metadata": {},
   "outputs": [],
   "source": [
    "def load_and_clean_weather_data():\n",
    "    weather_csv_files = get_all_weather_csvs(WEATHER_CSV_DIR)\n",
    "    \n",
    "    hourly_dataframes = []\n",
    "    daily_dataframes = []\n",
    "        \n",
    "    for csv_file in weather_csv_files:\n",
    "        hourly_dataframe = clean_month_weather_data_hourly(csv_file)\n",
    "        daily_dataframe = clean_month_weather_data_daily(csv_file)\n",
    "        hourly_dataframes.append(hourly_dataframe)\n",
    "        daily_dataframes.append(daily_dataframe)\n",
    "        \n",
    "    # create two dataframes with hourly & daily data from every month\n",
    "    hourly_data = pd.concat(hourly_dataframes)\n",
    "    daily_data = pd.concat(daily_dataframes)\n",
    "    \n",
    "    hourly_data.rename(columns={\"DATE\": \"datetime\"}, inplace=True)\n",
    "    daily_data.rename(columns={\"DATE\": \"datetime\"}, inplace=True)\n",
    "    \n",
    "    return hourly_data, daily_data"
   ]
  },
  {
   "cell_type": "code",
   "execution_count": 8,
   "id": "b69005b7",
   "metadata": {},
   "outputs": [
    {
     "name": "stderr",
     "output_type": "stream",
     "text": [
      "/var/folders/5z/n8xgv02j4v15tvg7n0p73xb00000gn/T/ipykernel_40623/3764627406.py:8: DtypeWarning: Columns (9,13) have mixed types. Specify dtype option on import or set low_memory=False.\n",
      "  data = pd.read_csv(f\"{directory}/{fname}\")\n",
      "/var/folders/5z/n8xgv02j4v15tvg7n0p73xb00000gn/T/ipykernel_40623/3764627406.py:8: DtypeWarning: Columns (8,9,10,17) have mixed types. Specify dtype option on import or set low_memory=False.\n",
      "  data = pd.read_csv(f\"{directory}/{fname}\")\n",
      "/var/folders/5z/n8xgv02j4v15tvg7n0p73xb00000gn/T/ipykernel_40623/3764627406.py:8: DtypeWarning: Columns (10) have mixed types. Specify dtype option on import or set low_memory=False.\n",
      "  data = pd.read_csv(f\"{directory}/{fname}\")\n",
      "/var/folders/5z/n8xgv02j4v15tvg7n0p73xb00000gn/T/ipykernel_40623/3764627406.py:8: DtypeWarning: Columns (7,8,9,10,17,18,42,65) have mixed types. Specify dtype option on import or set low_memory=False.\n",
      "  data = pd.read_csv(f\"{directory}/{fname}\")\n",
      "/var/folders/5z/n8xgv02j4v15tvg7n0p73xb00000gn/T/ipykernel_40623/3764627406.py:8: DtypeWarning: Columns (17,78) have mixed types. Specify dtype option on import or set low_memory=False.\n",
      "  data = pd.read_csv(f\"{directory}/{fname}\")\n",
      "/var/folders/5z/n8xgv02j4v15tvg7n0p73xb00000gn/T/ipykernel_40623/3764627406.py:8: DtypeWarning: Columns (8,9,17,18,78) have mixed types. Specify dtype option on import or set low_memory=False.\n",
      "  data = pd.read_csv(f\"{directory}/{fname}\")\n",
      "/var/folders/5z/n8xgv02j4v15tvg7n0p73xb00000gn/T/ipykernel_40623/3764627406.py:8: DtypeWarning: Columns (10,41,78) have mixed types. Specify dtype option on import or set low_memory=False.\n",
      "  data = pd.read_csv(f\"{directory}/{fname}\")\n",
      "/var/folders/5z/n8xgv02j4v15tvg7n0p73xb00000gn/T/ipykernel_40623/458643598.py:7: SettingWithCopyWarning: \n",
      "A value is trying to be set on a copy of a slice from a DataFrame.\n",
      "Try using .loc[row_indexer,col_indexer] = value instead\n",
      "\n",
      "See the caveats in the documentation: https://pandas.pydata.org/pandas-docs/stable/user_guide/indexing.html#returning-a-view-versus-a-copy\n",
      "  data[\"DATE\"] = data[\"DATE\"].apply(lambda s: s.replace(\"T\", \" \"))\n",
      "/var/folders/5z/n8xgv02j4v15tvg7n0p73xb00000gn/T/ipykernel_40623/3231986597.py:7: SettingWithCopyWarning: \n",
      "A value is trying to be set on a copy of a slice from a DataFrame.\n",
      "Try using .loc[row_indexer,col_indexer] = value instead\n",
      "\n",
      "See the caveats in the documentation: https://pandas.pydata.org/pandas-docs/stable/user_guide/indexing.html#returning-a-view-versus-a-copy\n",
      "  data[\"DATE\"] = data[\"DATE\"].apply(lambda s: s.replace(\"T\", \" \"))\n",
      "/var/folders/5z/n8xgv02j4v15tvg7n0p73xb00000gn/T/ipykernel_40623/458643598.py:7: SettingWithCopyWarning: \n",
      "A value is trying to be set on a copy of a slice from a DataFrame.\n",
      "Try using .loc[row_indexer,col_indexer] = value instead\n",
      "\n",
      "See the caveats in the documentation: https://pandas.pydata.org/pandas-docs/stable/user_guide/indexing.html#returning-a-view-versus-a-copy\n",
      "  data[\"DATE\"] = data[\"DATE\"].apply(lambda s: s.replace(\"T\", \" \"))\n",
      "/var/folders/5z/n8xgv02j4v15tvg7n0p73xb00000gn/T/ipykernel_40623/3231986597.py:7: SettingWithCopyWarning: \n",
      "A value is trying to be set on a copy of a slice from a DataFrame.\n",
      "Try using .loc[row_indexer,col_indexer] = value instead\n",
      "\n",
      "See the caveats in the documentation: https://pandas.pydata.org/pandas-docs/stable/user_guide/indexing.html#returning-a-view-versus-a-copy\n",
      "  data[\"DATE\"] = data[\"DATE\"].apply(lambda s: s.replace(\"T\", \" \"))\n",
      "/var/folders/5z/n8xgv02j4v15tvg7n0p73xb00000gn/T/ipykernel_40623/458643598.py:7: SettingWithCopyWarning: \n",
      "A value is trying to be set on a copy of a slice from a DataFrame.\n",
      "Try using .loc[row_indexer,col_indexer] = value instead\n",
      "\n",
      "See the caveats in the documentation: https://pandas.pydata.org/pandas-docs/stable/user_guide/indexing.html#returning-a-view-versus-a-copy\n",
      "  data[\"DATE\"] = data[\"DATE\"].apply(lambda s: s.replace(\"T\", \" \"))\n",
      "/var/folders/5z/n8xgv02j4v15tvg7n0p73xb00000gn/T/ipykernel_40623/3231986597.py:7: SettingWithCopyWarning: \n",
      "A value is trying to be set on a copy of a slice from a DataFrame.\n",
      "Try using .loc[row_indexer,col_indexer] = value instead\n",
      "\n",
      "See the caveats in the documentation: https://pandas.pydata.org/pandas-docs/stable/user_guide/indexing.html#returning-a-view-versus-a-copy\n",
      "  data[\"DATE\"] = data[\"DATE\"].apply(lambda s: s.replace(\"T\", \" \"))\n",
      "/var/folders/5z/n8xgv02j4v15tvg7n0p73xb00000gn/T/ipykernel_40623/458643598.py:7: SettingWithCopyWarning: \n",
      "A value is trying to be set on a copy of a slice from a DataFrame.\n",
      "Try using .loc[row_indexer,col_indexer] = value instead\n",
      "\n",
      "See the caveats in the documentation: https://pandas.pydata.org/pandas-docs/stable/user_guide/indexing.html#returning-a-view-versus-a-copy\n",
      "  data[\"DATE\"] = data[\"DATE\"].apply(lambda s: s.replace(\"T\", \" \"))\n",
      "/var/folders/5z/n8xgv02j4v15tvg7n0p73xb00000gn/T/ipykernel_40623/3231986597.py:7: SettingWithCopyWarning: \n",
      "A value is trying to be set on a copy of a slice from a DataFrame.\n",
      "Try using .loc[row_indexer,col_indexer] = value instead\n",
      "\n",
      "See the caveats in the documentation: https://pandas.pydata.org/pandas-docs/stable/user_guide/indexing.html#returning-a-view-versus-a-copy\n",
      "  data[\"DATE\"] = data[\"DATE\"].apply(lambda s: s.replace(\"T\", \" \"))\n",
      "/var/folders/5z/n8xgv02j4v15tvg7n0p73xb00000gn/T/ipykernel_40623/458643598.py:7: SettingWithCopyWarning: \n",
      "A value is trying to be set on a copy of a slice from a DataFrame.\n",
      "Try using .loc[row_indexer,col_indexer] = value instead\n",
      "\n",
      "See the caveats in the documentation: https://pandas.pydata.org/pandas-docs/stable/user_guide/indexing.html#returning-a-view-versus-a-copy\n",
      "  data[\"DATE\"] = data[\"DATE\"].apply(lambda s: s.replace(\"T\", \" \"))\n",
      "/var/folders/5z/n8xgv02j4v15tvg7n0p73xb00000gn/T/ipykernel_40623/3231986597.py:7: SettingWithCopyWarning: \n",
      "A value is trying to be set on a copy of a slice from a DataFrame.\n",
      "Try using .loc[row_indexer,col_indexer] = value instead\n",
      "\n",
      "See the caveats in the documentation: https://pandas.pydata.org/pandas-docs/stable/user_guide/indexing.html#returning-a-view-versus-a-copy\n",
      "  data[\"DATE\"] = data[\"DATE\"].apply(lambda s: s.replace(\"T\", \" \"))\n",
      "/var/folders/5z/n8xgv02j4v15tvg7n0p73xb00000gn/T/ipykernel_40623/458643598.py:7: SettingWithCopyWarning: \n",
      "A value is trying to be set on a copy of a slice from a DataFrame.\n",
      "Try using .loc[row_indexer,col_indexer] = value instead\n",
      "\n",
      "See the caveats in the documentation: https://pandas.pydata.org/pandas-docs/stable/user_guide/indexing.html#returning-a-view-versus-a-copy\n",
      "  data[\"DATE\"] = data[\"DATE\"].apply(lambda s: s.replace(\"T\", \" \"))\n",
      "/var/folders/5z/n8xgv02j4v15tvg7n0p73xb00000gn/T/ipykernel_40623/3231986597.py:7: SettingWithCopyWarning: \n",
      "A value is trying to be set on a copy of a slice from a DataFrame.\n",
      "Try using .loc[row_indexer,col_indexer] = value instead\n",
      "\n",
      "See the caveats in the documentation: https://pandas.pydata.org/pandas-docs/stable/user_guide/indexing.html#returning-a-view-versus-a-copy\n",
      "  data[\"DATE\"] = data[\"DATE\"].apply(lambda s: s.replace(\"T\", \" \"))\n",
      "/var/folders/5z/n8xgv02j4v15tvg7n0p73xb00000gn/T/ipykernel_40623/458643598.py:7: SettingWithCopyWarning: \n",
      "A value is trying to be set on a copy of a slice from a DataFrame.\n",
      "Try using .loc[row_indexer,col_indexer] = value instead\n",
      "\n",
      "See the caveats in the documentation: https://pandas.pydata.org/pandas-docs/stable/user_guide/indexing.html#returning-a-view-versus-a-copy\n",
      "  data[\"DATE\"] = data[\"DATE\"].apply(lambda s: s.replace(\"T\", \" \"))\n",
      "/var/folders/5z/n8xgv02j4v15tvg7n0p73xb00000gn/T/ipykernel_40623/3231986597.py:7: SettingWithCopyWarning: \n",
      "A value is trying to be set on a copy of a slice from a DataFrame.\n",
      "Try using .loc[row_indexer,col_indexer] = value instead\n",
      "\n",
      "See the caveats in the documentation: https://pandas.pydata.org/pandas-docs/stable/user_guide/indexing.html#returning-a-view-versus-a-copy\n",
      "  data[\"DATE\"] = data[\"DATE\"].apply(lambda s: s.replace(\"T\", \" \"))\n"
     ]
    }
   ],
   "source": [
    "hourly_weather_data, daily_weather_data = load_and_clean_weather_data()"
   ]
  },
  {
   "cell_type": "code",
   "execution_count": 9,
   "id": "bc526f87",
   "metadata": {},
   "outputs": [
    {
     "name": "stdout",
     "output_type": "stream",
     "text": [
      "(56928, 3)\n"
     ]
    },
    {
     "data": {
      "text/html": [
       "<div>\n",
       "<style scoped>\n",
       "    .dataframe tbody tr th:only-of-type {\n",
       "        vertical-align: middle;\n",
       "    }\n",
       "\n",
       "    .dataframe tbody tr th {\n",
       "        vertical-align: top;\n",
       "    }\n",
       "\n",
       "    .dataframe thead th {\n",
       "        text-align: right;\n",
       "    }\n",
       "</style>\n",
       "<table border=\"1\" class=\"dataframe\">\n",
       "  <thead>\n",
       "    <tr style=\"text-align: right;\">\n",
       "      <th></th>\n",
       "      <th>datetime</th>\n",
       "      <th>HourlyWindSpeed</th>\n",
       "      <th>HourlyPrecipitation</th>\n",
       "    </tr>\n",
       "  </thead>\n",
       "  <tbody>\n",
       "    <tr>\n",
       "      <th>0</th>\n",
       "      <td>2009-01-01 00:51:00</td>\n",
       "      <td>18.0</td>\n",
       "      <td>NaN</td>\n",
       "    </tr>\n",
       "    <tr>\n",
       "      <th>1</th>\n",
       "      <td>2009-01-01 01:51:00</td>\n",
       "      <td>18.0</td>\n",
       "      <td>NaN</td>\n",
       "    </tr>\n",
       "    <tr>\n",
       "      <th>2</th>\n",
       "      <td>2009-01-01 02:51:00</td>\n",
       "      <td>18.0</td>\n",
       "      <td>NaN</td>\n",
       "    </tr>\n",
       "    <tr>\n",
       "      <th>3</th>\n",
       "      <td>2009-01-01 03:51:00</td>\n",
       "      <td>8.0</td>\n",
       "      <td>NaN</td>\n",
       "    </tr>\n",
       "    <tr>\n",
       "      <th>4</th>\n",
       "      <td>2009-01-01 04:51:00</td>\n",
       "      <td>11.0</td>\n",
       "      <td>NaN</td>\n",
       "    </tr>\n",
       "  </tbody>\n",
       "</table>\n",
       "</div>"
      ],
      "text/plain": [
       "              datetime  HourlyWindSpeed HourlyPrecipitation\n",
       "0  2009-01-01 00:51:00             18.0                 NaN\n",
       "1  2009-01-01 01:51:00             18.0                 NaN\n",
       "2  2009-01-01 02:51:00             18.0                 NaN\n",
       "3  2009-01-01 03:51:00              8.0                 NaN\n",
       "4  2009-01-01 04:51:00             11.0                 NaN"
      ]
     },
     "execution_count": 9,
     "metadata": {},
     "output_type": "execute_result"
    }
   ],
   "source": [
    "# check hourly_weather_data\n",
    "print(hourly_weather_data.shape) # should have 24*(365*5+366+181)=56928 rows\n",
    "hourly_weather_data.head()"
   ]
  },
  {
   "cell_type": "code",
   "execution_count": 10,
   "id": "7779e317",
   "metadata": {},
   "outputs": [
    {
     "name": "stdout",
     "output_type": "stream",
     "text": [
      "(2372, 3)\n"
     ]
    },
    {
     "data": {
      "text/html": [
       "<div>\n",
       "<style scoped>\n",
       "    .dataframe tbody tr th:only-of-type {\n",
       "        vertical-align: middle;\n",
       "    }\n",
       "\n",
       "    .dataframe tbody tr th {\n",
       "        vertical-align: top;\n",
       "    }\n",
       "\n",
       "    .dataframe thead th {\n",
       "        text-align: right;\n",
       "    }\n",
       "</style>\n",
       "<table border=\"1\" class=\"dataframe\">\n",
       "  <thead>\n",
       "    <tr style=\"text-align: right;\">\n",
       "      <th></th>\n",
       "      <th>datetime</th>\n",
       "      <th>DailyAverageWindSpeed</th>\n",
       "      <th>DailyPrecipitation</th>\n",
       "    </tr>\n",
       "  </thead>\n",
       "  <tbody>\n",
       "    <tr>\n",
       "      <th>0</th>\n",
       "      <td>2009-01-01 23:59:00</td>\n",
       "      <td>NaN</td>\n",
       "      <td>NaN</td>\n",
       "    </tr>\n",
       "    <tr>\n",
       "      <th>1</th>\n",
       "      <td>2009-01-02 23:59:00</td>\n",
       "      <td>NaN</td>\n",
       "      <td>NaN</td>\n",
       "    </tr>\n",
       "    <tr>\n",
       "      <th>2</th>\n",
       "      <td>2009-01-03 23:59:00</td>\n",
       "      <td>NaN</td>\n",
       "      <td>NaN</td>\n",
       "    </tr>\n",
       "    <tr>\n",
       "      <th>3</th>\n",
       "      <td>2009-01-04 23:59:00</td>\n",
       "      <td>NaN</td>\n",
       "      <td>NaN</td>\n",
       "    </tr>\n",
       "    <tr>\n",
       "      <th>4</th>\n",
       "      <td>2009-01-05 23:59:00</td>\n",
       "      <td>NaN</td>\n",
       "      <td>NaN</td>\n",
       "    </tr>\n",
       "  </tbody>\n",
       "</table>\n",
       "</div>"
      ],
      "text/plain": [
       "              datetime  DailyAverageWindSpeed DailyPrecipitation\n",
       "0  2009-01-01 23:59:00                    NaN                NaN\n",
       "1  2009-01-02 23:59:00                    NaN                NaN\n",
       "2  2009-01-03 23:59:00                    NaN                NaN\n",
       "3  2009-01-04 23:59:00                    NaN                NaN\n",
       "4  2009-01-05 23:59:00                    NaN                NaN"
      ]
     },
     "execution_count": 10,
     "metadata": {},
     "output_type": "execute_result"
    }
   ],
   "source": [
    "# check daily_weather_data\n",
    "print(daily_weather_data.shape) # should have 365*5+366+181=2372 rows\n",
    "daily_weather_data.head()"
   ]
  },
  {
   "cell_type": "markdown",
   "id": "6eaf6943",
   "metadata": {},
   "source": [
    "# Part II: Storing Data"
   ]
  },
  {
   "cell_type": "code",
   "execution_count": 13,
   "id": "0a51659c",
   "metadata": {},
   "outputs": [],
   "source": [
    "engine = db.create_engine(DATABASE_URL)\n",
    "connection = sqlite3.connect(\"project.db\")"
   ]
  },
  {
   "cell_type": "markdown",
   "id": "36bddcf6",
   "metadata": {},
   "source": [
    "## Create Schema"
   ]
  },
  {
   "cell_type": "code",
   "execution_count": 12,
   "id": "36b78f1c",
   "metadata": {},
   "outputs": [],
   "source": [
    "# if using SQL (as opposed to SQLAlchemy), define the commands \n",
    "# to create your 4 tables/dataframes\n",
    "HOURLY_WEATHER_SCHEMA = \"\"\"\n",
    "CREATE TABLE IF NOT EXISTS hourlyweather(\n",
    "    hourlyweatherId INTEGER PRIMARY KEY AUTOINCREMENT,\n",
    "    datetime DATETIME, \n",
    "    HourlyWindSpeed FLOAT,\n",
    "    HourlyPrecipitation FLOAT\n",
    ");\n",
    "\"\"\"\n",
    "\n",
    "DAILY_WEATHER_SCHEMA = \"\"\"\n",
    "CREATE TABLE IF NOT EXISTS dailyweather(\n",
    "    dailyweatherId INTEGER PRIMARY KEY AUTOINCREMENT,\n",
    "    datetime DATETIME, \n",
    "    DailyAverageWindSpeed FLOAT,\n",
    "    DailyPrecipitation FLOAT\n",
    ");\n",
    "\"\"\"\n",
    "\n",
    "TAXI_TRIPS_SCHEMA = \"\"\"\n",
    "CREATE TABLE IF NOT EXISTS taxitrips(\n",
    "    taxitripsId INTEGER PRIMARY KEY AUTOINCREMENT,\n",
    "    start_datetime DATETIME, \n",
    "    start_lat FLOAT,\n",
    "    start_lon FLOAT,\n",
    "    end_lat FLOAT,\n",
    "    end_lon FLOAT,\n",
    "    distance FLOAT,\n",
    "    tip_amount FLOAT\n",
    ");\n",
    "\"\"\"\n",
    "\n",
    "UBER_TRIPS_SCHEMA = \"\"\"\n",
    "CREATE TABLE IF NOT EXISTS ubertrips(\n",
    "    ubertripsId INTEGER PRIMARY KEY AUTOINCREMENT,\n",
    "    start_datetime DATETIME, \n",
    "    start_lat FLOAT,\n",
    "    start_lon FLOAT,\n",
    "    end_lat FLOAT,\n",
    "    end_lon FLOAT,\n",
    "    distance FLOAT\n",
    ");\n",
    "\"\"\""
   ]
  },
  {
   "cell_type": "code",
   "execution_count": 13,
   "id": "f262d0d1",
   "metadata": {},
   "outputs": [],
   "source": [
    "# create that required schema.sql file\n",
    "with open(DATABASE_SCHEMA_FILE, \"w\") as f:\n",
    "    f.write(HOURLY_WEATHER_SCHEMA)\n",
    "    f.write(DAILY_WEATHER_SCHEMA)\n",
    "    f.write(TAXI_TRIPS_SCHEMA)\n",
    "    f.write(UBER_TRIPS_SCHEMA)"
   ]
  },
  {
   "cell_type": "markdown",
   "id": "4ffdeeef",
   "metadata": {},
   "source": [
    "## Add Data to Database"
   ]
  },
  {
   "cell_type": "code",
   "execution_count": 14,
   "id": "b6eda635",
   "metadata": {
    "scrolled": false
   },
   "outputs": [],
   "source": [
    "# prepare dataframe for adding to database\n",
    "hourly_weather_data.reset_index(inplace=True)\n",
    "hourly_weather_data.rename(columns={\"index\": \"hourlyweatherId\"}, inplace=True)\n",
    "hourly_weather_data[\"hourlyweatherId\"] = list(range(len(hourly_weather_data)))\n",
    "hourly_weather_data_list = hourly_weather_data.values.tolist()\n",
    "\n",
    "daily_weather_data.reset_index(inplace=True)\n",
    "daily_weather_data.rename(columns={\"index\": \"dailyweatherId\"}, inplace=True)\n",
    "daily_weather_data[\"dailyweatherId\"] = list(range(len(daily_weather_data)))\n",
    "daily_weather_data_list = daily_weather_data.values.tolist()"
   ]
  },
  {
   "cell_type": "code",
   "execution_count": 95,
   "id": "7a81d0c2",
   "metadata": {},
   "outputs": [],
   "source": [
    "uber_data.reset_index(inplace=True)\n",
    "uber_data.rename(columns={\"index\": \"ubertripsId\"}, inplace=True)\n",
    "uber_data[\"ubertripsId\"] = list(range(len(uber_data)))\n",
    "uber_data_list = uber_data.values.tolist()\n",
    "\n",
    "taxi_data.reset_index(inplace=True)\n",
    "taxi_data.rename(columns={\"index\": \"taxitripsId\"}, inplace=True)\n",
    "taxi_data[\"taxitripsId\"] = list(range(len(taxi_data)))\n",
    "taxi_data_list = taxi_data.values.tolist()"
   ]
  },
  {
   "cell_type": "code",
   "execution_count": 16,
   "id": "a9b1f6c9",
   "metadata": {},
   "outputs": [],
   "source": [
    "# add data to database\n",
    "with connection:\n",
    "    connection.execute(HOURLY_WEATHER_SCHEMA)\n",
    "    connection.executemany(\n",
    "        \"\"\"\n",
    "        INSERT INTO hourlyweather (hourlyweatherId, datetime, HourlyWindSpeed, HourlyPrecipitation)\n",
    "        VALUES (?,?,?,?)\n",
    "        \"\"\", hourly_weather_data_list)\n",
    "    \n",
    "    connection.execute(DAILY_WEATHER_SCHEMA)\n",
    "    connection.executemany(\n",
    "        \"\"\"\n",
    "        INSERT INTO dailyweather (dailyweatherId, datetime, DailyAverageWindSpeed, DailyPrecipitation)\n",
    "        VALUES (?,?,?,?)\n",
    "        \"\"\", daily_weather_data_list)"
   ]
  },
  {
   "cell_type": "code",
   "execution_count": 108,
   "id": "e39e5c99",
   "metadata": {},
   "outputs": [],
   "source": [
    "with connection:\n",
    "    connection.execute(UBER_TRIPS_SCHEMA)\n",
    "    connection.executemany(\n",
    "        \"\"\"\n",
    "        INSERT INTO ubertrips (ubertripsId, start_datetime, start_lat, start_lon, end_lat, end_lon, distance)\n",
    "        VALUES (?,?,?,?,?,?,?)\n",
    "        \"\"\", uber_data_list)\n",
    "    \n",
    "    connection.execute(TAXI_TRIPS_SCHEMA)\n",
    "    connection.executemany(\n",
    "        \"\"\"\n",
    "        INSERT INTO taxitrips (taxitripsId, start_datetime, start_lat, start_lon, end_lat, end_lon, distance, tip_amount)\n",
    "        VALUES (?,?,?,?,?,?,?,?)\n",
    "        \"\"\", taxi_data_list)"
   ]
  },
  {
   "cell_type": "code",
   "execution_count": 17,
   "id": "94d285a7",
   "metadata": {},
   "outputs": [
    {
     "name": "stdout",
     "output_type": "stream",
     "text": [
      "(56928,)\n"
     ]
    },
    {
     "data": {
      "text/plain": [
       "[(0, 'hourlyweatherId', 'INTEGER', 0, None, 1),\n",
       " (1, 'datetime', 'DATETIME', 0, None, 0),\n",
       " (2, 'HourlyWindSpeed', 'FLOAT', 0, None, 0),\n",
       " (3, 'HourlyPrecipitation', 'FLOAT', 0, None, 0)]"
      ]
     },
     "execution_count": 17,
     "metadata": {},
     "output_type": "execute_result"
    }
   ],
   "source": [
    "# check hourlyweather table\n",
    "print(engine.execute(\"SELECT COUNT(*) FROM hourlyweather\").fetchone())\n",
    "engine.execute(\"PRAGMA table_info(hourlyweather)\").fetchall()"
   ]
  },
  {
   "cell_type": "code",
   "execution_count": 19,
   "id": "9293a579",
   "metadata": {},
   "outputs": [
    {
     "data": {
      "text/plain": [
       "[(0, '2009-01-01 00:51:00', 18.0, None),\n",
       " (1, '2009-01-01 01:51:00', 18.0, None),\n",
       " (2, '2009-01-01 02:51:00', 18.0, None),\n",
       " (3, '2009-01-01 03:51:00', 8.0, None),\n",
       " (4, '2009-01-01 04:51:00', 11.0, None)]"
      ]
     },
     "execution_count": 19,
     "metadata": {},
     "output_type": "execute_result"
    }
   ],
   "source": [
    "engine.execute(\"SELECT * FROM hourlyweather LIMIT 5\").fetchall()"
   ]
  },
  {
   "cell_type": "code",
   "execution_count": 20,
   "id": "11534cf6",
   "metadata": {},
   "outputs": [
    {
     "name": "stdout",
     "output_type": "stream",
     "text": [
      "(2372,)\n"
     ]
    },
    {
     "data": {
      "text/plain": [
       "[(0, 'dailyweatherId', 'INTEGER', 0, None, 1),\n",
       " (1, 'datetime', 'DATETIME', 0, None, 0),\n",
       " (2, 'DailyAverageWindSpeed', 'FLOAT', 0, None, 0),\n",
       " (3, 'DailyPrecipitation', 'FLOAT', 0, None, 0)]"
      ]
     },
     "execution_count": 20,
     "metadata": {},
     "output_type": "execute_result"
    }
   ],
   "source": [
    "# check dailyweather table\n",
    "print(engine.execute(\"SELECT COUNT(*) FROM dailyweather\").fetchone())\n",
    "engine.execute(\"PRAGMA table_info(dailyweather)\").fetchall()"
   ]
  },
  {
   "cell_type": "code",
   "execution_count": 21,
   "id": "482ab59b",
   "metadata": {},
   "outputs": [
    {
     "data": {
      "text/plain": [
       "[(0, '2009-01-01 23:59:00', None, None),\n",
       " (1, '2009-01-02 23:59:00', None, None),\n",
       " (2, '2009-01-03 23:59:00', None, None),\n",
       " (3, '2009-01-04 23:59:00', None, None),\n",
       " (4, '2009-01-05 23:59:00', None, None)]"
      ]
     },
     "execution_count": 21,
     "metadata": {},
     "output_type": "execute_result"
    }
   ],
   "source": [
    "engine.execute(\"SELECT * FROM dailyweather LIMIT 5\").fetchall()"
   ]
  },
  {
   "cell_type": "code",
   "execution_count": 109,
   "id": "633c5588",
   "metadata": {},
   "outputs": [
    {
     "name": "stdout",
     "output_type": "stream",
     "text": [
      "(194768,)\n"
     ]
    },
    {
     "data": {
      "text/plain": [
       "[(0, 'ubertripsId', 'INTEGER', 0, None, 1),\n",
       " (1, 'start_datetime', 'DATETIME', 0, None, 0),\n",
       " (2, 'start_lat', 'FLOAT', 0, None, 0),\n",
       " (3, 'start_lon', 'FLOAT', 0, None, 0),\n",
       " (4, 'end_lat', 'FLOAT', 0, None, 0),\n",
       " (5, 'end_lon', 'FLOAT', 0, None, 0),\n",
       " (6, 'distance', 'FLOAT', 0, None, 0)]"
      ]
     },
     "execution_count": 109,
     "metadata": {},
     "output_type": "execute_result"
    }
   ],
   "source": [
    "# check ubertrips\n",
    "print(engine.execute(\"SELECT COUNT(*) FROM ubertrips\").fetchone())\n",
    "engine.execute(\"PRAGMA table_info(ubertrips)\").fetchall()"
   ]
  },
  {
   "cell_type": "code",
   "execution_count": 110,
   "id": "65d193a7",
   "metadata": {},
   "outputs": [
    {
     "data": {
      "text/plain": [
       "[(0, '2009-01-01 01:15:22', 40.779456, -73.981918, 40.771043, -73.957685, 0.025651839271285136),\n",
       " (1, '2009-01-01 01:59:17', 40.721389, -73.983759, 40.687179, -73.994833, 0.03595771928251248),\n",
       " (2, '2009-01-01 02:05:03', 40.771254, -73.956635, 40.749778, -73.991528, 0.04097243005973364),\n",
       " (3, '2009-01-01 02:09:13', 40.72802, -73.984605, 40.77683, -73.955746, 0.05670324488950737),\n",
       " (4, '2009-01-01 02:13:41', 40.737425, -73.980127, 40.726025, -74.009544, 0.03154869076523767)]"
      ]
     },
     "execution_count": 110,
     "metadata": {},
     "output_type": "execute_result"
    }
   ],
   "source": [
    "engine.execute(\"SELECT * FROM ubertrips LIMIT 5\").fetchall()"
   ]
  },
  {
   "cell_type": "code",
   "execution_count": 111,
   "id": "d6ef899b",
   "metadata": {},
   "outputs": [
    {
     "name": "stdout",
     "output_type": "stream",
     "text": [
      "(14613478,)\n"
     ]
    },
    {
     "data": {
      "text/plain": [
       "[(0, 'taxitripsId', 'INTEGER', 0, None, 1),\n",
       " (1, 'start_datetime', 'DATETIME', 0, None, 0),\n",
       " (2, 'start_lat', 'FLOAT', 0, None, 0),\n",
       " (3, 'start_lon', 'FLOAT', 0, None, 0),\n",
       " (4, 'end_lat', 'FLOAT', 0, None, 0),\n",
       " (5, 'end_lon', 'FLOAT', 0, None, 0),\n",
       " (6, 'distance', 'FLOAT', 0, None, 0),\n",
       " (7, 'tip_amount', 'FLOAT', 0, None, 0)]"
      ]
     },
     "execution_count": 111,
     "metadata": {},
     "output_type": "execute_result"
    }
   ],
   "source": [
    "# check taxitrips\n",
    "print(engine.execute(\"SELECT COUNT(*) FROM taxitrips\").fetchone())\n",
    "engine.execute(\"PRAGMA table_info(taxitrips)\").fetchall()"
   ]
  },
  {
   "cell_type": "code",
   "execution_count": 112,
   "id": "d21c50d3",
   "metadata": {},
   "outputs": [
    {
     "data": {
      "text/plain": [
       "[(0, '2009-01-01 00:00:30', 40.728857, -73.984596, 40.722528, -73.986196, 0.006528, 0.0),\n",
       " (1, '2009-01-01 00:01:46', 40.733459, -73.999581, 40.734307, -73.990855, 0.008767, 0.0),\n",
       " (2, '2009-01-01 00:02:04', 40.743486, -73.99604, 40.726504, -73.98324, 0.021266, 0.0),\n",
       " (3, '2009-01-01 00:04:43', 40.759017, -73.992155, 40.780733, -73.959001, 0.039633, 0.0),\n",
       " (4, '2009-01-01 00:05:09', 40.76508, -73.988076, 40.740205, -73.996378, 0.026224, 0.0)]"
      ]
     },
     "execution_count": 112,
     "metadata": {},
     "output_type": "execute_result"
    }
   ],
   "source": [
    "engine.execute(\"SELECT * FROM taxitrips LIMIT 5\").fetchall()"
   ]
  },
  {
   "cell_type": "markdown",
   "id": "b142f98b",
   "metadata": {},
   "source": [
    "# Part III: Understanding Data"
   ]
  },
  {
   "cell_type": "code",
   "execution_count": 9,
   "id": "9072e7fe",
   "metadata": {},
   "outputs": [],
   "source": [
    "connection = sqlite3.connect(\"project.db\")"
   ]
  },
  {
   "cell_type": "code",
   "execution_count": 10,
   "id": "a8a3eb55",
   "metadata": {},
   "outputs": [],
   "source": [
    "# Helper function to write the queries to file\n",
    "def write_query_to_file(query_stmt, query_filename):\n",
    "    with open(f\"{QUERY_DIRECTORY}/{query_filename}\", \"w\") as f:\n",
    "        f.write(query_stmt)"
   ]
  },
  {
   "cell_type": "markdown",
   "id": "5c2cab86",
   "metadata": {},
   "source": [
    "## Query 1"
   ]
  },
  {
   "cell_type": "code",
   "execution_count": 11,
   "id": "e4956c89",
   "metadata": {},
   "outputs": [],
   "source": [
    "QUERY_1_FILENAME = \"query1\"\n",
    "\n",
    "QUERY_1 = \"\"\"\n",
    "SELECT strftime(\"%H\", start_datetime) AS hour, COUNT(taxitripsId) AS popularity\n",
    "FROM taxitrips\n",
    "GROUP BY hour\n",
    "ORDER BY popularity DESC\n",
    "\"\"\""
   ]
  },
  {
   "cell_type": "code",
   "execution_count": 14,
   "id": "7fd84215",
   "metadata": {
    "scrolled": false
   },
   "outputs": [
    {
     "data": {
      "text/plain": [
       "[('19', 917163),\n",
       " ('18', 878861),\n",
       " ('20', 862388),\n",
       " ('21', 843353),\n",
       " ('22', 817263),\n",
       " ('14', 732693),\n",
       " ('23', 728940),\n",
       " ('17', 723758),\n",
       " ('12', 713826),\n",
       " ('13', 710444),\n",
       " ('15', 700189),\n",
       " ('09', 682356),\n",
       " ('11', 675183),\n",
       " ('08', 662709),\n",
       " ('10', 658533),\n",
       " ('16', 601165),\n",
       " ('00', 581380),\n",
       " ('07', 529772),\n",
       " ('01', 427618),\n",
       " ('02', 318734),\n",
       " ('06', 302134),\n",
       " ('03', 233243),\n",
       " ('04', 168653),\n",
       " ('05', 143120)]"
      ]
     },
     "execution_count": 14,
     "metadata": {},
     "output_type": "execute_result"
    }
   ],
   "source": [
    "engine.execute(QUERY_1).fetchall()"
   ]
  },
  {
   "cell_type": "code",
   "execution_count": 15,
   "id": "064d2293",
   "metadata": {},
   "outputs": [],
   "source": [
    "write_query_to_file(QUERY_1, QUERY_1_FILENAME)"
   ]
  },
  {
   "cell_type": "markdown",
   "id": "ce6ecec3",
   "metadata": {},
   "source": [
    "## Query 2"
   ]
  },
  {
   "cell_type": "code",
   "execution_count": 17,
   "id": "fa4204e6",
   "metadata": {},
   "outputs": [],
   "source": [
    "QUERY_2_FILENAME = \"query2\"\n",
    "\n",
    "QUERY_2 = \"\"\"\n",
    "SELECT strftime(\"%w\", start_datetime) AS weekday, COUNT(ubertripsId) AS popularity\n",
    "FROM ubertrips\n",
    "GROUP BY weekday\n",
    "ORDER BY popularity DESC\n",
    "\"\"\""
   ]
  },
  {
   "cell_type": "code",
   "execution_count": 18,
   "id": "a15e8f13",
   "metadata": {},
   "outputs": [
    {
     "data": {
      "text/plain": [
       "[('5', 30065),\n",
       " ('6', 29492),\n",
       " ('4', 29245),\n",
       " ('3', 28229),\n",
       " ('2', 27411),\n",
       " ('0', 25764),\n",
       " ('1', 24562)]"
      ]
     },
     "execution_count": 18,
     "metadata": {},
     "output_type": "execute_result"
    }
   ],
   "source": [
    "engine.execute(QUERY_2).fetchall()"
   ]
  },
  {
   "cell_type": "code",
   "execution_count": 19,
   "id": "4ac5183d",
   "metadata": {},
   "outputs": [],
   "source": [
    "write_query_to_file(QUERY_2, QUERY_2_FILENAME)"
   ]
  },
  {
   "cell_type": "markdown",
   "id": "01679a40",
   "metadata": {},
   "source": [
    "## Query 3"
   ]
  },
  {
   "cell_type": "code",
   "execution_count": 21,
   "id": "4e78b6ca",
   "metadata": {},
   "outputs": [],
   "source": [
    "QUERY_3_FILENAME = \"query3\"\n",
    "\n",
    "QUERY_3 = \"\"\"\n",
    "WITH RECURSIVE alltrips201307 AS ( \n",
    "    SELECT start_datetime, distance FROM taxitrips\n",
    "    WHERE strftime(\"%Y\", start_datetime)=\"2013\" AND strftime(\"%m\", start_datetime)=\"07\"\n",
    "        UNION ALL \n",
    "    SELECT start_datetime, distance FROM ubertrips\n",
    "    WHERE strftime(\"%Y\", start_datetime)=\"2013\" AND strftime(\"%m\", start_datetime)=\"07\"\n",
    ")\n",
    "\n",
    "SELECT distance FROM alltrips201307\n",
    "ORDER BY distance ASC\n",
    "LIMIT 1\n",
    "OFFSET (SELECT COUNT(distance) FROM alltrips201307)*95/100-1;\n",
    "\"\"\""
   ]
  },
  {
   "cell_type": "code",
   "execution_count": 22,
   "id": "61eff4aa",
   "metadata": {},
   "outputs": [
    {
     "data": {
      "text/plain": [
       "(0.111522,)"
      ]
     },
     "execution_count": 22,
     "metadata": {},
     "output_type": "execute_result"
    }
   ],
   "source": [
    "engine.execute(QUERY_3).fetchone()"
   ]
  },
  {
   "cell_type": "code",
   "execution_count": 23,
   "id": "edbe296d",
   "metadata": {},
   "outputs": [],
   "source": [
    "write_query_to_file(QUERY_3, QUERY_3_FILENAME)"
   ]
  },
  {
   "cell_type": "markdown",
   "id": "611799ec",
   "metadata": {},
   "source": [
    "## Query 4"
   ]
  },
  {
   "cell_type": "code",
   "execution_count": 24,
   "id": "7b503498",
   "metadata": {},
   "outputs": [],
   "source": [
    "QUERY_4_FILENAME = \"query4\"\n",
    "\n",
    "QUERY_4 = \"\"\"\n",
    "WITH RECURSIVE alltrips2009 AS ( \n",
    "    SELECT start_datetime, distance FROM taxitrips\n",
    "    WHERE strftime(\"%Y\", start_datetime)=\"2009\"\n",
    "        UNION ALL \n",
    "    SELECT start_datetime, distance FROM ubertrips\n",
    "    WHERE strftime(\"%Y\", start_datetime)=\"2009\"\n",
    ")\n",
    "SELECT DATE(start_datetime) AS date, COUNT(distance) AS count, avg(distance) FROM alltrips2009\n",
    "GROUP BY date\n",
    "ORDER BY count DESC\n",
    "LIMIT 10\n",
    "\"\"\""
   ]
  },
  {
   "cell_type": "code",
   "execution_count": 25,
   "id": "3d4aef3d",
   "metadata": {},
   "outputs": [
    {
     "data": {
      "text/plain": [
       "[('2009-02-20', 8349, 0.03144749482804619),\n",
       " ('2009-12-11', 8135, 0.03133360106627688),\n",
       " ('2009-02-13', 8093, 0.03159664503768783),\n",
       " ('2009-02-06', 8046, 0.030020550704603927),\n",
       " ('2009-02-05', 7992, 0.029296811891008412),\n",
       " ('2009-02-14', 7830, 0.03145215994349495),\n",
       " ('2009-12-18', 7782, 0.0317294835790318),\n",
       " ('2009-09-11', 7762, 0.03126775230772812),\n",
       " ('2009-12-05', 7758, 0.030079059463089846),\n",
       " ('2009-02-28', 7755, 0.03187888671972589)]"
      ]
     },
     "execution_count": 25,
     "metadata": {},
     "output_type": "execute_result"
    }
   ],
   "source": [
    "engine.execute(QUERY_4).fetchall()"
   ]
  },
  {
   "cell_type": "code",
   "execution_count": 26,
   "id": "0b668f9d",
   "metadata": {},
   "outputs": [],
   "source": [
    "write_query_to_file(QUERY_4, QUERY_4_FILENAME)"
   ]
  },
  {
   "cell_type": "markdown",
   "id": "7fb358b8",
   "metadata": {},
   "source": [
    "## Query 5"
   ]
  },
  {
   "cell_type": "code",
   "execution_count": 27,
   "id": "db06edb7",
   "metadata": {},
   "outputs": [],
   "source": [
    "QUERY_5_FILENAME = \"query5\"\n",
    "\n",
    "QUERY_5 = \"\"\"\n",
    "WITH RECURSIVE alltrips2014 AS ( \n",
    "    SELECT DATE(start_datetime) AS date, COUNT(start_datetime) AS count FROM ubertrips\n",
    "    WHERE strftime(\"%Y\", start_datetime)=\"2014\" GROUP BY date\n",
    "        UNION ALL\n",
    "    SELECT DATE(start_datetime) AS date, COUNT(start_datetime) AS count FROM taxitrips\n",
    "    WHERE strftime(\"%Y\", start_datetime)=\"2014\" GROUP BY date\n",
    ")\n",
    "\n",
    "SELECT alltrips2014.date AS date, \n",
    "    avg(dailyweather.DailyAverageWindSpeed) AS avg, \n",
    "    SUM(alltrips2014.count) AS count\n",
    "FROM alltrips2014\n",
    "LEFT JOIN dailyweather ON alltrips2014.date=DATE(dailyweather.datetime)\n",
    "GROUP BY date\n",
    "ORDER BY avg DESC\n",
    "LIMIT 10;\n",
    "\"\"\""
   ]
  },
  {
   "cell_type": "code",
   "execution_count": 28,
   "id": "8f6a101a",
   "metadata": {},
   "outputs": [
    {
     "data": {
      "text/plain": [
       "[('2014-03-13', 14.1, 6704),\n",
       " ('2014-01-07', 13.1, 6153),\n",
       " ('2014-02-13', 12.6, 4566),\n",
       " ('2014-01-02', 12.2, 5030),\n",
       " ('2014-03-26', 11.9, 6148),\n",
       " ('2014-12-07', 11.8, 6479),\n",
       " ('2014-12-08', 11.5, 6369),\n",
       " ('2014-11-02', 10.8, 6205),\n",
       " ('2014-03-29', 10.8, 6979),\n",
       " ('2014-02-14', 10.4, 6717)]"
      ]
     },
     "execution_count": 28,
     "metadata": {},
     "output_type": "execute_result"
    }
   ],
   "source": [
    "engine.execute(QUERY_5).fetchall()"
   ]
  },
  {
   "cell_type": "code",
   "execution_count": 29,
   "id": "f2992f1e",
   "metadata": {},
   "outputs": [],
   "source": [
    "write_query_to_file(QUERY_5, QUERY_5_FILENAME)"
   ]
  },
  {
   "cell_type": "markdown",
   "id": "a1da01ae",
   "metadata": {},
   "source": [
    "## Query 6"
   ]
  },
  {
   "cell_type": "code",
   "execution_count": 30,
   "id": "eff3b83f",
   "metadata": {},
   "outputs": [],
   "source": [
    "QUERY_6_FILENAME = \"query6\"\n",
    "\n",
    "QUERY_6 = \"\"\"\n",
    "WITH RECURSIVE datehours(dh) AS ( \n",
    "    SELECT \"2012-10-22 00:51:00\"\n",
    "        UNION ALL \n",
    "    SELECT DATETIME(dh, \"+1 HOURS\") FROM datehours WHERE dh<'2012-11-06 23:51:00' \n",
    "),\n",
    "tripcounts AS(\n",
    "    SELECT strftime(\"%Y-%m-%d %H:51:00\", start_datetime) AS dh, COUNT(start_datetime) AS count FROM taxitrips\n",
    "    WHERE DATE(start_datetime)>='2012-10-22' AND DATE(start_datetime)<='2012-11-06' GROUP BY dh\n",
    "        UNION ALL\n",
    "    SELECT strftime(\"%Y-%m-%d %H:51:00\", start_datetime) AS dh, COUNT(start_datetime) AS count FROM ubertrips\n",
    "    WHERE DATE(start_datetime)>='2012-10-22' AND DATE(start_datetime)<='2012-11-06' GROUP BY dh\n",
    ")\n",
    "\n",
    "SELECT datehours.dh, \n",
    "        SUM(tripcounts.count), \n",
    "        hourlyweather.HourlyPrecipitation,\n",
    "        hourlyweather.HourlyWindSpeed\n",
    "FROM datehours\n",
    "LEFT JOIN tripcounts ON datehours.dh=tripcounts.dh\n",
    "LEFT JOIN hourlyweather ON datehours.dh=strftime(\"%Y-%m-%d %H:51:00\", hourlyweather.datetime)\n",
    "GROUP BY datehours.dh\n",
    "ORDER BY datehours.dh ASC;\n",
    "\"\"\""
   ]
  },
  {
   "cell_type": "code",
   "execution_count": 31,
   "id": "22e2d5f6",
   "metadata": {},
   "outputs": [
    {
     "data": {
      "text/plain": [
       "[('2012-10-22 00:51:00', 140, 0.0, 7.0),\n",
       " ('2012-10-22 01:51:00', 74, 0.0, 5.0),\n",
       " ('2012-10-22 02:51:00', 32, 0.0, 7.0),\n",
       " ('2012-10-22 03:51:00', 40, 0.0, 0.0),\n",
       " ('2012-10-22 04:51:00', 34, 0.0, 0.0),\n",
       " ('2012-10-22 05:51:00', 59, 0.0, 0.0),\n",
       " ('2012-10-22 06:51:00', 191, 0.0, 5.0),\n",
       " ('2012-10-22 07:51:00', 265, 0.0, 3.0),\n",
       " ('2012-10-22 08:51:00', 324, 0.0, 3.0),\n",
       " ('2012-10-22 09:51:00', 344, 0.0, 5.0),\n",
       " ('2012-10-22 10:51:00', 287, 0.0, None),\n",
       " ('2012-10-22 11:51:00', 267, 0.0, None),\n",
       " ('2012-10-22 12:51:00', 310, 0.0, 11.0),\n",
       " ('2012-10-22 13:51:00', 280, 0.0, None),\n",
       " ('2012-10-22 14:51:00', 317, 0.0, 7.0),\n",
       " ('2012-10-22 15:51:00', 277, 0.0, 6.0),\n",
       " ('2012-10-22 16:51:00', 239, 0.0, 3.0),\n",
       " ('2012-10-22 17:51:00', 308, 0.0, 7.0),\n",
       " ('2012-10-22 18:51:00', 359, 0.0, 5.0),\n",
       " ('2012-10-22 19:51:00', 379, 0.0, 5.0),\n",
       " ('2012-10-22 20:51:00', 374, 0.0, 3.0),\n",
       " ('2012-10-22 21:51:00', 323, 0.0, 0.0),\n",
       " ('2012-10-22 22:51:00', 298, 0.0, 3.0),\n",
       " ('2012-10-22 23:51:00', 209, 0.0, 3.0),\n",
       " ('2012-10-23 00:51:00', 161, None, 3.0),\n",
       " ('2012-10-23 01:51:00', 84, None, 0.0),\n",
       " ('2012-10-23 02:51:00', 46, None, 3.0),\n",
       " ('2012-10-23 03:51:00', 32, None, 0.0),\n",
       " ('2012-10-23 04:51:00', 35, None, 3.0),\n",
       " ('2012-10-23 05:51:00', 58, None, 0.0),\n",
       " ('2012-10-23 06:51:00', 153, None, 0.0),\n",
       " ('2012-10-23 07:51:00', 333, None, 0.0),\n",
       " ('2012-10-23 08:51:00', 347, None, 0.0),\n",
       " ('2012-10-23 09:51:00', 301, None, 3.0),\n",
       " ('2012-10-23 10:51:00', 322, None, 0.0),\n",
       " ('2012-10-23 11:51:00', 301, None, 3.0),\n",
       " ('2012-10-23 12:51:00', 295, 'T', 0.0),\n",
       " ('2012-10-23 13:51:00', 273, None, None),\n",
       " ('2012-10-23 14:51:00', 323, None, None),\n",
       " ('2012-10-23 15:51:00', 288, None, None),\n",
       " ('2012-10-23 16:51:00', 216, None, 3.0),\n",
       " ('2012-10-23 17:51:00', 303, None, None),\n",
       " ('2012-10-23 18:51:00', 375, None, 5.0),\n",
       " ('2012-10-23 19:51:00', 413, 'T', 0.0),\n",
       " ('2012-10-23 20:51:00', 419, 0.02, 0.0),\n",
       " ('2012-10-23 21:51:00', 432, 'T', 5.0),\n",
       " ('2012-10-23 22:51:00', 388, 0.01, 0.0),\n",
       " ('2012-10-23 23:51:00', 277, 'T', 5.0),\n",
       " ('2012-10-24 00:51:00', 168, 0.0, 3.0),\n",
       " ('2012-10-24 01:51:00', 94, 0.0, 5.0),\n",
       " ('2012-10-24 02:51:00', 51, 0.0, 5.0),\n",
       " ('2012-10-24 03:51:00', 37, 0.0, 7.0),\n",
       " ('2012-10-24 04:51:00', 42, 0.0, 7.0),\n",
       " ('2012-10-24 05:51:00', 59, 0.0, 6.0),\n",
       " ('2012-10-24 06:51:00', 176, 0.0, 3.0),\n",
       " ('2012-10-24 07:51:00', 327, 'T', 0.0),\n",
       " ('2012-10-24 08:51:00', 376, 'T', 0.0),\n",
       " ('2012-10-24 09:51:00', 349, 'T', 3.0),\n",
       " ('2012-10-24 10:51:00', 318, 0.0, 7.0),\n",
       " ('2012-10-24 11:51:00', 285, 0.0, 7.0),\n",
       " ('2012-10-24 12:51:00', 314, 'T', 7.0),\n",
       " ('2012-10-24 13:51:00', 296, 0.0, 8.0),\n",
       " ('2012-10-24 14:51:00', 315, 0.0, 7.0),\n",
       " ('2012-10-24 15:51:00', 303, 0.0, 7.0),\n",
       " ('2012-10-24 16:51:00', 225, 0.0, 8.0),\n",
       " ('2012-10-24 17:51:00', 319, 0.0, 5.0),\n",
       " ('2012-10-24 18:51:00', 418, 0.0, 7.0),\n",
       " ('2012-10-24 19:51:00', 472, 0.0, 8.0),\n",
       " ('2012-10-24 20:51:00', 404, 0.0, 3.0),\n",
       " ('2012-10-24 21:51:00', 460, 0.0, 5.0),\n",
       " ('2012-10-24 22:51:00', 398, 0.0, 6.0),\n",
       " ('2012-10-24 23:51:00', 347, 0.0, 0.0),\n",
       " ('2012-10-25 00:51:00', 177, 0.0, 3.0),\n",
       " ('2012-10-25 01:51:00', 138, 0.0, 3.0),\n",
       " ('2012-10-25 02:51:00', 76, 0.0, 3.0),\n",
       " ('2012-10-25 03:51:00', 38, 0.0, 7.0),\n",
       " ('2012-10-25 04:51:00', 42, 0.0, 6.0),\n",
       " ('2012-10-25 05:51:00', 77, 0.0, 0.0),\n",
       " ('2012-10-25 06:51:00', 173, 0.0, 5.0),\n",
       " ('2012-10-25 07:51:00', 320, 0.0, 6.0),\n",
       " ('2012-10-25 08:51:00', 400, 0.0, 5.0),\n",
       " ('2012-10-25 09:51:00', 353, 0.0, 3.0),\n",
       " ('2012-10-25 10:51:00', 323, 0.0, 6.0),\n",
       " ('2012-10-25 11:51:00', 289, 0.0, 0.0),\n",
       " ('2012-10-25 12:51:00', 367, 0.0, 6.0),\n",
       " ('2012-10-25 13:51:00', 281, 0.0, 0.0),\n",
       " ('2012-10-25 14:51:00', 337, 0.0, 5.0),\n",
       " ('2012-10-25 15:51:00', 309, 0.0, 5.0),\n",
       " ('2012-10-25 16:51:00', 237, 0.0, 0.0),\n",
       " ('2012-10-25 17:51:00', 316, 0.0, 3.0),\n",
       " ('2012-10-25 18:51:00', 376, 0.0, 0.0),\n",
       " ('2012-10-25 19:51:00', 430, 0.0, 0.0),\n",
       " ('2012-10-25 20:51:00', 440, 0.0, 3.0),\n",
       " ('2012-10-25 21:51:00', 466, 0.0, 3.0),\n",
       " ('2012-10-25 22:51:00', 427, 0.0, 3.0),\n",
       " ('2012-10-25 23:51:00', 369, 0.0, 0.0),\n",
       " ('2012-10-26 00:51:00', 294, 0.0, 5.0),\n",
       " ('2012-10-26 01:51:00', 184, 0.0, 0.0),\n",
       " ('2012-10-26 02:51:00', 150, 0.0, 0.0),\n",
       " ('2012-10-26 03:51:00', 96, 0.0, 3.0),\n",
       " ('2012-10-26 04:51:00', 66, 0.0, 0.0),\n",
       " ('2012-10-26 05:51:00', 60, 0.0, 0.0),\n",
       " ('2012-10-26 06:51:00', 152, 0.0, 0.0),\n",
       " ('2012-10-26 07:51:00', 271, 0.0, 3.0),\n",
       " ('2012-10-26 08:51:00', 288, 0.0, 3.0),\n",
       " ('2012-10-26 09:51:00', 261, 0.0, 3.0),\n",
       " ('2012-10-26 10:51:00', 300, 0.0, 3.0),\n",
       " ('2012-10-26 11:51:00', 293, 0.0, 3.0),\n",
       " ('2012-10-26 12:51:00', 289, 0.0, 0.0),\n",
       " ('2012-10-26 13:51:00', 345, 0.0, 3.0),\n",
       " ('2012-10-26 14:51:00', 289, 0.0, 3.0),\n",
       " ('2012-10-26 15:51:00', 233, 0.0, 0.0),\n",
       " ('2012-10-26 16:51:00', 213, 0.0, 0.0),\n",
       " ('2012-10-26 17:51:00', 274, 0.0, 0.0),\n",
       " ('2012-10-26 18:51:00', 385, 0.0, 0.0),\n",
       " ('2012-10-26 19:51:00', 398, 0.0, 0.0),\n",
       " ('2012-10-26 20:51:00', 408, 0.0, 3.0),\n",
       " ('2012-10-26 21:51:00', 374, 0.0, 3.0),\n",
       " ('2012-10-26 22:51:00', 439, 0.0, 0.0),\n",
       " ('2012-10-26 23:51:00', 414, 0.0, 0.0),\n",
       " ('2012-10-27 00:51:00', 352, 0.0, 3.0),\n",
       " ('2012-10-27 01:51:00', 318, 0.0, 0.0),\n",
       " ('2012-10-27 02:51:00', 309, 0.0, 3.0),\n",
       " ('2012-10-27 03:51:00', 229, 0.0, 0.0),\n",
       " ('2012-10-27 04:51:00', 182, 0.0, 6.0),\n",
       " ('2012-10-27 05:51:00', 63, 0.0, 6.0),\n",
       " ('2012-10-27 06:51:00', 85, 0.0, 6.0),\n",
       " ('2012-10-27 07:51:00', 109, 0.0, 3.0),\n",
       " ('2012-10-27 08:51:00', 193, 0.0, 8.0),\n",
       " ('2012-10-27 09:51:00', 218, 0.0, 6.0),\n",
       " ('2012-10-27 10:51:00', 272, 0.0, 9.0),\n",
       " ('2012-10-27 11:51:00', 291, 0.0, 6.0),\n",
       " ('2012-10-27 12:51:00', 314, 0.0, 8.0),\n",
       " ('2012-10-27 13:51:00', 326, 0.0, 8.0),\n",
       " ('2012-10-27 14:51:00', 300, 0.0, 10.0),\n",
       " ('2012-10-27 15:51:00', 319, 0.0, 10.0),\n",
       " ('2012-10-27 16:51:00', 296, 0.0, 7.0),\n",
       " ('2012-10-27 17:51:00', 314, 0.0, 7.0),\n",
       " ('2012-10-27 18:51:00', 376, 0.0, 7.0),\n",
       " ('2012-10-27 19:51:00', 414, 0.0, 9.0),\n",
       " ('2012-10-27 20:51:00', 427, 0.0, 7.0),\n",
       " ('2012-10-27 21:51:00', 428, 0.0, 9.0),\n",
       " ('2012-10-27 22:51:00', 478, 0.0, 9.0),\n",
       " ('2012-10-27 23:51:00', 384, 0.0, 8.0),\n",
       " ('2012-10-28 00:51:00', 401, 0.0, 11.0),\n",
       " ('2012-10-28 01:51:00', 376, 0.0, 8.0),\n",
       " ('2012-10-28 02:51:00', 404, 0.0, 8.0),\n",
       " ('2012-10-28 03:51:00', 269, 0.0, 9.0),\n",
       " ('2012-10-28 04:51:00', 226, 0.0, 10.0),\n",
       " ('2012-10-28 05:51:00', 84, 0.0, 11.0),\n",
       " ('2012-10-28 06:51:00', 75, 0.0, 10.0),\n",
       " ('2012-10-28 07:51:00', 89, 0.0, 11.0),\n",
       " ('2012-10-28 08:51:00', 133, 0.0, 11.0),\n",
       " ('2012-10-28 09:51:00', 192, 0.0, 11.0),\n",
       " ('2012-10-28 10:51:00', 257, 0.0, 10.0),\n",
       " ('2012-10-28 11:51:00', 274, 0.0, 8.0),\n",
       " ('2012-10-28 12:51:00', 310, 0.0, 7.0),\n",
       " ('2012-10-28 13:51:00', 351, 0.0, 13.0),\n",
       " ('2012-10-28 14:51:00', 337, 0.0, 13.0),\n",
       " ('2012-10-28 15:51:00', 300, 0.0, 13.0),\n",
       " ('2012-10-28 16:51:00', 283, 0.0, 16.0),\n",
       " ('2012-10-28 17:51:00', 262, 0.0, 11.0),\n",
       " ('2012-10-28 18:51:00', 201, 0.0, 15.0),\n",
       " ('2012-10-28 19:51:00', 195, 0.0, 14.0),\n",
       " ('2012-10-28 20:51:00', 141, 0.0, 16.0),\n",
       " ('2012-10-28 21:51:00', 117, 0.0, 14.0),\n",
       " ('2012-10-28 22:51:00', 116, 0.0, 16.0),\n",
       " ('2012-10-28 23:51:00', 92, 0.0, 14.0),\n",
       " ('2012-10-29 00:51:00', 66, 0.0, 16.0),\n",
       " ('2012-10-29 01:51:00', 43, 0.0, 11.0),\n",
       " ('2012-10-29 02:51:00', 31, 0.0, 13.0),\n",
       " ('2012-10-29 03:51:00', 21, 0.0, 17.0),\n",
       " ('2012-10-29 04:51:00', 12, 0.0, 15.0),\n",
       " ('2012-10-29 05:51:00', 21, 0.0, 15.0),\n",
       " ('2012-10-29 06:51:00', 63, 0.02, 16.0),\n",
       " ('2012-10-29 07:51:00', 94, 0.02, 17.0),\n",
       " ('2012-10-29 08:51:00', 101, 'T', 21.0),\n",
       " ('2012-10-29 09:51:00', 108, 0.0, 16.0),\n",
       " ('2012-10-29 10:51:00', 96, 0.02, None),\n",
       " ('2012-10-29 11:51:00', 127, 0.05, 17.0),\n",
       " ('2012-10-29 12:51:00', 145, 0.06, 20.0),\n",
       " ('2012-10-29 13:51:00', 124, 0.04, 28.0),\n",
       " ('2012-10-29 14:51:00', 112, 0.05, 28.0),\n",
       " ('2012-10-29 15:51:00', 87, 0.11, 24.0),\n",
       " ('2012-10-29 16:51:00', 51, 0.09, 30.0),\n",
       " ('2012-10-29 17:51:00', 43, 0.07, 25.0),\n",
       " ('2012-10-29 18:51:00', 36, 0.02, 25.0),\n",
       " ('2012-10-29 19:51:00', 15, 0.01, 25.0),\n",
       " ('2012-10-29 20:51:00', 15, 'T', 17.0),\n",
       " ('2012-10-29 21:51:00', 11, 0.0, 15.0),\n",
       " ('2012-10-29 22:51:00', 14, 0.02, 9.0),\n",
       " ('2012-10-29 23:51:00', 13, 0.09, 10.0),\n",
       " ('2012-10-30 00:51:00', 11, 0.02, 10.0),\n",
       " ('2012-10-30 01:51:00', 8, 'T', 8.0),\n",
       " ('2012-10-30 02:51:00', 9, 0.03, 9.0),\n",
       " ('2012-10-30 03:51:00', 1, 0.04, 17.0),\n",
       " ('2012-10-30 04:51:00', 2, 'T', 9.0),\n",
       " ('2012-10-30 05:51:00', 1, 0.01, 7.0),\n",
       " ('2012-10-30 06:51:00', 10, 0.01, 7.0),\n",
       " ('2012-10-30 07:51:00', 19, 'T', 10.0),\n",
       " ('2012-10-30 08:51:00', 31, 0.05, None),\n",
       " ('2012-10-30 09:51:00', 47, 0.09, 10.0),\n",
       " ('2012-10-30 10:51:00', 80, 0.01, None),\n",
       " ('2012-10-30 11:51:00', 118, 0.0, 7.0),\n",
       " ('2012-10-30 12:51:00', 106, 0.0, 7.0),\n",
       " ('2012-10-30 13:51:00', 117, 0.0, 6.0),\n",
       " ('2012-10-30 14:51:00', 161, 'T', None),\n",
       " ('2012-10-30 15:51:00', 181, 'T', None),\n",
       " ('2012-10-30 16:51:00', 140, 0.01, 6.0),\n",
       " ('2012-10-30 17:51:00', 196, 0.0, 5.0),\n",
       " ('2012-10-30 18:51:00', 213, 0.0, 5.0),\n",
       " ('2012-10-30 19:51:00', 210, 0.0, 3.0),\n",
       " ('2012-10-30 20:51:00', 161, 0.0, 7.0),\n",
       " ('2012-10-30 21:51:00', 169, 0.0, 5.0),\n",
       " ('2012-10-30 22:51:00', 160, 0.0, 7.0),\n",
       " ('2012-10-30 23:51:00', 147, 0.0, 9.0),\n",
       " ('2012-10-31 00:51:00', 106, 'T', 5.0),\n",
       " ('2012-10-31 01:51:00', 52, 0.01, 5.0),\n",
       " ('2012-10-31 02:51:00', 37, 'T', 0.0),\n",
       " ('2012-10-31 03:51:00', 27, 0.0, 8.0),\n",
       " ('2012-10-31 04:51:00', 19, 0.0, None),\n",
       " ('2012-10-31 05:51:00', 44, 0.0, 0.0),\n",
       " ('2012-10-31 06:51:00', 107, 0.0, 6.0),\n",
       " ('2012-10-31 07:51:00', 196, 0.0, 8.0),\n",
       " ('2012-10-31 08:51:00', 180, 0.0, 7.0),\n",
       " ('2012-10-31 09:51:00', 192, 0.0, 8.0),\n",
       " ('2012-10-31 10:51:00', 192, 0.0, 3.0),\n",
       " ('2012-10-31 11:51:00', 195, 0.0, 5.0),\n",
       " ('2012-10-31 12:51:00', 154, 0.0, 3.0),\n",
       " ('2012-10-31 13:51:00', 171, 0.0, 6.0),\n",
       " ('2012-10-31 14:51:00', 198, 0.0, 5.0),\n",
       " ('2012-10-31 15:51:00', 175, 0.0, 3.0),\n",
       " ('2012-10-31 16:51:00', 143, 0.0, 5.0),\n",
       " ('2012-10-31 17:51:00', 142, 0.0, 5.0),\n",
       " ('2012-10-31 18:51:00', 195, 0.0, 3.0),\n",
       " ('2012-10-31 19:51:00', 186, 0.0, 9.0),\n",
       " ('2012-10-31 20:51:00', 217, 0.0, 7.0),\n",
       " ('2012-10-31 21:51:00', 239, 0.0, 7.0),\n",
       " ('2012-10-31 22:51:00', 250, 0.0, 6.0),\n",
       " ('2012-10-31 23:51:00', 210, 0.0, 3.0),\n",
       " ('2012-11-01 00:51:00', 191, 0.0, 3.0),\n",
       " ('2012-11-01 01:51:00', 135, 0.0, 3.0),\n",
       " ('2012-11-01 02:51:00', 97, 0.0, 3.0),\n",
       " ('2012-11-01 03:51:00', 67, 0.0, None),\n",
       " ('2012-11-01 04:51:00', 54, 0.0, 7.0),\n",
       " ('2012-11-01 05:51:00', 69, 0.0, 6.0),\n",
       " ('2012-11-01 06:51:00', 132, 0.0, 13.0),\n",
       " ('2012-11-01 07:51:00', 168, 0.0, None),\n",
       " ('2012-11-01 08:51:00', 214, 0.0, 7.0),\n",
       " ('2012-11-01 09:51:00', 209, 0.0, 3.0),\n",
       " ('2012-11-01 10:51:00', 228, 0.0, 6.0),\n",
       " ('2012-11-01 11:51:00', 234, 0.0, 6.0),\n",
       " ('2012-11-01 12:51:00', 223, 0.0, 11.0),\n",
       " ('2012-11-01 13:51:00', 210, 0.0, 8.0),\n",
       " ('2012-11-01 14:51:00', 237, 0.0, 8.0),\n",
       " ('2012-11-01 15:51:00', 200, 0.0, None),\n",
       " ('2012-11-01 16:51:00', 162, 0.0, 5.0),\n",
       " ('2012-11-01 17:51:00', 192, 0.0, 5.0),\n",
       " ('2012-11-01 18:51:00', 254, 0.0, 9.0),\n",
       " ('2012-11-01 19:51:00', 265, 0.0, 3.0),\n",
       " ('2012-11-01 20:51:00', 261, 0.0, 5.0),\n",
       " ('2012-11-01 21:51:00', 260, 0.0, 8.0),\n",
       " ('2012-11-01 22:51:00', 248, 0.0, 5.0),\n",
       " ('2012-11-01 23:51:00', 187, 0.0, 0.0),\n",
       " ('2012-11-02 00:51:00', 145, 0.0, 5.0),\n",
       " ('2012-11-02 01:51:00', 86, 0.0, 7.0),\n",
       " ('2012-11-02 02:51:00', 65, 0.0, 3.0),\n",
       " ('2012-11-02 03:51:00', 38, 0.0, 3.0),\n",
       " ('2012-11-02 04:51:00', 40, 0.0, 5.0),\n",
       " ('2012-11-02 05:51:00', 57, 0.0, 5.0),\n",
       " ('2012-11-02 06:51:00', 119, 0.0, 6.0),\n",
       " ('2012-11-02 07:51:00', 198, 0.0, None),\n",
       " ('2012-11-02 08:51:00', 219, 0.0, 5.0),\n",
       " ('2012-11-02 09:51:00', 219, 0.0, 7.0),\n",
       " ('2012-11-02 10:51:00', 257, 0.0, 9.0),\n",
       " ('2012-11-02 11:51:00', 205, 0.0, 7.0),\n",
       " ('2012-11-02 12:51:00', 221, 0.0, 7.0),\n",
       " ('2012-11-02 13:51:00', 213, 0.0, 6.0),\n",
       " ('2012-11-02 14:51:00', 234, 0.0, 6.0),\n",
       " ('2012-11-02 15:51:00', 180, 0.0, 5.0),\n",
       " ('2012-11-02 16:51:00', 163, 0.0, 11.0),\n",
       " ('2012-11-02 17:51:00', 177, 0.0, 8.0),\n",
       " ('2012-11-02 18:51:00', 222, 0.0, 9.0),\n",
       " ('2012-11-02 19:51:00', 278, 0.0, 7.0),\n",
       " ('2012-11-02 20:51:00', 276, 0.0, 9.0),\n",
       " ('2012-11-02 21:51:00', 280, 0.0, 7.0),\n",
       " ('2012-11-02 22:51:00', 256, 0.0, 8.0),\n",
       " ('2012-11-02 23:51:00', 273, 0.0, 8.0),\n",
       " ('2012-11-03 00:51:00', 245, 0.0, 7.0),\n",
       " ('2012-11-03 01:51:00', 211, 0.0, 7.0),\n",
       " ('2012-11-03 02:51:00', 185, 0.0, 7.0),\n",
       " ('2012-11-03 03:51:00', 121, 0.0, 7.0),\n",
       " ('2012-11-03 04:51:00', 84, 0.0, 8.0),\n",
       " ('2012-11-03 05:51:00', 46, 0.0, 8.0),\n",
       " ('2012-11-03 06:51:00', 66, 0.0, 7.0),\n",
       " ('2012-11-03 07:51:00', 111, 0.0, 6.0),\n",
       " ('2012-11-03 08:51:00', 181, 0.0, 10.0),\n",
       " ('2012-11-03 09:51:00', 201, 0.0, 13.0),\n",
       " ('2012-11-03 10:51:00', 267, 0.0, 6.0),\n",
       " ('2012-11-03 11:51:00', 265, 0.0, 13.0),\n",
       " ('2012-11-03 12:51:00', 307, 0.0, 13.0),\n",
       " ('2012-11-03 13:51:00', 305, 0.0, 8.0),\n",
       " ('2012-11-03 14:51:00', 298, 0.0, 8.0),\n",
       " ('2012-11-03 15:51:00', 297, 0.0, 7.0),\n",
       " ('2012-11-03 16:51:00', 286, 0.0, 10.0),\n",
       " ('2012-11-03 17:51:00', 293, 0.0, 9.0),\n",
       " ('2012-11-03 18:51:00', 327, 0.0, 9.0),\n",
       " ('2012-11-03 19:51:00', 380, 0.0, 13.0),\n",
       " ('2012-11-03 20:51:00', 409, 0.0, 10.0),\n",
       " ('2012-11-03 21:51:00', 385, 0.0, 9.0),\n",
       " ('2012-11-03 22:51:00', 363, 0.0, 0.0),\n",
       " ('2012-11-03 23:51:00', 386, 0.0, 7.0),\n",
       " ('2012-11-04 00:51:00', 360, 0.0, 9.0),\n",
       " ('2012-11-04 01:51:00', 549, 0.0, 7.0),\n",
       " ('2012-11-04 02:51:00', 210, 0.0, 7.0),\n",
       " ('2012-11-04 03:51:00', 125, 0.0, 7.0),\n",
       " ('2012-11-04 04:51:00', 90, 0.0, 8.0),\n",
       " ('2012-11-04 05:51:00', 61, 0.0, 6.0),\n",
       " ('2012-11-04 06:51:00', 50, 0.0, 6.0),\n",
       " ('2012-11-04 07:51:00', 80, 0.0, 3.0),\n",
       " ('2012-11-04 08:51:00', 124, 0.0, 7.0),\n",
       " ('2012-11-04 09:51:00', 186, 0.0, 9.0),\n",
       " ('2012-11-04 10:51:00', 257, 0.0, None),\n",
       " ('2012-11-04 11:51:00', 267, 0.0, 6.0),\n",
       " ('2012-11-04 12:51:00', 308, 0.0, 8.0),\n",
       " ('2012-11-04 13:51:00', 340, 0.0, 8.0),\n",
       " ('2012-11-04 14:51:00', 336, 0.0, 7.0),\n",
       " ('2012-11-04 15:51:00', 330, 0.0, 7.0),\n",
       " ('2012-11-04 16:51:00', 291, 0.0, 5.0),\n",
       " ('2012-11-04 17:51:00', 322, 0.0, 5.0),\n",
       " ('2012-11-04 18:51:00', 318, 0.0, None),\n",
       " ('2012-11-04 19:51:00', 307, 0.0, 7.0),\n",
       " ('2012-11-04 20:51:00', 296, 0.0, None),\n",
       " ('2012-11-04 21:51:00', 290, 0.0, 7.0),\n",
       " ('2012-11-04 22:51:00', 228, 0.0, 6.0),\n",
       " ('2012-11-04 23:51:00', 156, 0.0, 5.0),\n",
       " ('2012-11-05 00:51:00', 110, 0.0, 0.0),\n",
       " ('2012-11-05 01:51:00', 78, 0.0, 5.0),\n",
       " ('2012-11-05 02:51:00', 37, 0.0, 3.0),\n",
       " ('2012-11-05 03:51:00', 26, 0.0, 7.0),\n",
       " ('2012-11-05 04:51:00', 28, 0.0, 3.0),\n",
       " ('2012-11-05 05:51:00', 74, 0.0, 6.0),\n",
       " ('2012-11-05 06:51:00', 182, 0.0, 8.0),\n",
       " ('2012-11-05 07:51:00', 268, 0.0, 6.0),\n",
       " ('2012-11-05 08:51:00', 323, 0.0, 7.0),\n",
       " ('2012-11-05 09:51:00', 286, 0.0, 3.0),\n",
       " ('2012-11-05 10:51:00', 291, 0.0, 3.0),\n",
       " ('2012-11-05 11:51:00', 271, 0.0, 3.0),\n",
       " ('2012-11-05 12:51:00', 254, 0.0, 5.0),\n",
       " ('2012-11-05 13:51:00', 273, 0.0, 3.0),\n",
       " ('2012-11-05 14:51:00', 308, 0.0, None),\n",
       " ('2012-11-05 15:51:00', 272, 0.0, 8.0),\n",
       " ('2012-11-05 16:51:00', 268, 0.0, None),\n",
       " ('2012-11-05 17:51:00', 306, 0.0, 5.0),\n",
       " ('2012-11-05 18:51:00', 388, 0.0, 5.0),\n",
       " ('2012-11-05 19:51:00', 394, 0.0, 0.0),\n",
       " ('2012-11-05 20:51:00', 370, 0.0, 3.0),\n",
       " ('2012-11-05 21:51:00', 353, 0.0, 7.0),\n",
       " ('2012-11-05 22:51:00', 314, 0.0, 6.0),\n",
       " ('2012-11-05 23:51:00', 207, 0.0, 9.0),\n",
       " ('2012-11-06 00:51:00', 157, 0.0, 6.0),\n",
       " ('2012-11-06 01:51:00', 95, 0.0, 5.0),\n",
       " ('2012-11-06 02:51:00', 50, 0.0, 8.0),\n",
       " ('2012-11-06 03:51:00', 49, 0.0, 10.0),\n",
       " ('2012-11-06 04:51:00', 39, 0.0, 6.0),\n",
       " ('2012-11-06 05:51:00', 49, 0.0, 5.0),\n",
       " ('2012-11-06 06:51:00', 175, 0.0, 7.0),\n",
       " ('2012-11-06 07:51:00', 313, 0.0, 7.0),\n",
       " ('2012-11-06 08:51:00', 385, 0.0, 8.0),\n",
       " ('2012-11-06 09:51:00', 326, 0.0, 3.0),\n",
       " ('2012-11-06 10:51:00', 320, 0.0, 6.0),\n",
       " ('2012-11-06 11:51:00', 307, 0.0, 7.0),\n",
       " ('2012-11-06 12:51:00', 312, 0.0, 5.0),\n",
       " ('2012-11-06 13:51:00', 279, 0.0, 0.0),\n",
       " ('2012-11-06 14:51:00', 345, 0.0, 6.0),\n",
       " ('2012-11-06 15:51:00', 300, 0.0, 6.0),\n",
       " ('2012-11-06 16:51:00', 255, 0.0, 5.0),\n",
       " ('2012-11-06 17:51:00', 321, 0.0, 5.0),\n",
       " ('2012-11-06 18:51:00', 395, 0.0, 3.0),\n",
       " ('2012-11-06 19:51:00', 381, 0.0, 3.0),\n",
       " ('2012-11-06 20:51:00', 384, 0.0, 7.0),\n",
       " ('2012-11-06 21:51:00', 335, 0.0, 7.0),\n",
       " ('2012-11-06 22:51:00', 295, 0.0, 7.0),\n",
       " ('2012-11-06 23:51:00', 331, 0.0, 3.0)]"
      ]
     },
     "execution_count": 31,
     "metadata": {},
     "output_type": "execute_result"
    }
   ],
   "source": [
    "engine.execute(QUERY_6).fetchall()"
   ]
  },
  {
   "cell_type": "code",
   "execution_count": 32,
   "id": "8ff66cd5",
   "metadata": {},
   "outputs": [],
   "source": [
    "write_query_to_file(QUERY_6, QUERY_6_FILENAME)"
   ]
  },
  {
   "cell_type": "markdown",
   "id": "ff33297c",
   "metadata": {},
   "source": [
    "# Part IV: Visualizing Data"
   ]
  },
  {
   "cell_type": "markdown",
   "id": "100b6572",
   "metadata": {},
   "source": [
    "## Visualization 1"
   ]
  },
  {
   "cell_type": "code",
   "execution_count": 33,
   "id": "54ca4310",
   "metadata": {},
   "outputs": [],
   "source": [
    "def get_data_for_visual_1():\n",
    "    return pd.read_sql_query(QUERY_1, con=connection)"
   ]
  },
  {
   "cell_type": "code",
   "execution_count": 34,
   "id": "ad2f42d3",
   "metadata": {},
   "outputs": [],
   "source": [
    "def plot_barchart_visual_1(dataframe):\n",
    "    fig, ax = plt.subplots(figsize=(20, 10))\n",
    "    \n",
    "    dataframe.sort_values(by=[\"hour\"], inplace=True, ascending=True)\n",
    "    x = dataframe[\"hour\"].values\n",
    "    y = dataframe[\"popularity\"].values\n",
    "    \n",
    "    ax.bar(x, y)\n",
    "    ax.set_xlabel(\"Hour\", fontsize=16)\n",
    "    ax.set_ylabel(\"Popularity\", fontsize=16)\n",
    "    ax.set_title(\"Bar Chart of Hourly Popularity of Yellow Taxi Trips\", fontsize=20)\n",
    "    \n",
    "    plt.show()"
   ]
  },
  {
   "cell_type": "code",
   "execution_count": 35,
   "id": "4fa5fa75",
   "metadata": {},
   "outputs": [
    {
     "data": {
      "image/png": "[encoded data removed]",
      "text/plain": [
       "<Figure size 2000x1000 with 1 Axes>"
      ]
     },
     "metadata": {},
     "output_type": "display_data"
    }
   ],
   "source": [
    "df1 = get_data_for_visual_1()\n",
    "plot_barchart_visual_1(df1)"
   ]
  },
  {
   "cell_type": "markdown",
   "id": "ed899f1b",
   "metadata": {},
   "source": [
    "## Visualization 2"
   ]
  },
  {
   "cell_type": "code",
   "execution_count": 36,
   "id": "33fd466d",
   "metadata": {},
   "outputs": [],
   "source": [
    "def get_data_for_visual_2():\n",
    "    visual_query_2 = \"\"\"\n",
    "    WITH RECURSIVE monthlytrips AS ( \n",
    "        SELECT strftime(\"%m\", start_datetime) AS month, distance FROM ubertrips\n",
    "            UNION ALL\n",
    "        SELECT strftime(\"%m\", start_datetime) AS month, distance FROM taxitrips\n",
    "    )\n",
    "    SELECT month, avg(distance) AS avg_distance FROM monthlytrips\n",
    "    GROUP BY month\n",
    "    ORDER BY month ASC\n",
    "    \"\"\"\n",
    "    return pd.read_sql_query(visual_query_2, con=connection)"
   ]
  },
  {
   "cell_type": "code",
   "execution_count": 37,
   "id": "f9842451",
   "metadata": {},
   "outputs": [],
   "source": [
    "def plot_confbands_visual_2(dataframe):\n",
    "    dataframe.sort_values(by=[\"month\"], inplace=True, ascending=True)\n",
    "    x = dataframe[\"month\"].astype(int).values\n",
    "    y = dataframe[\"avg_distance\"].values\n",
    "    \n",
    "    a, b = np.polyfit(x, y, deg=1)\n",
    "    y_est = a * x + b\n",
    "    y_err = 1.796 * x.std() * np.sqrt( 1/len(x)+(x - x.mean())**2 / np.sum((x - x.mean())**2))\n",
    "\n",
    "    fig, ax = plt.subplots(figsize=(20, 10))\n",
    "    ax.plot(x, y_est, '-')\n",
    "    ax.fill_between(x, y_est - y_err, y_est + y_err, alpha=0.2)\n",
    "    ax.plot(x, y, 'o', color='tab:brown')\n",
    "    ax.set_xlabel(\"Month\", fontsize=16)\n",
    "    ax.set_ylabel(\"AvgDistance\", fontsize=16)\n",
    "    ax.set_title(\"Plot of Monthly Average Distance of All Trips(With 90% Confidence Bands)\", fontsize=20)\n",
    "    \n",
    "    plt.show()"
   ]
  },
  {
   "cell_type": "code",
   "execution_count": 38,
   "id": "ba5511ff",
   "metadata": {
    "scrolled": false
   },
   "outputs": [
    {
     "data": {
      "image/png": "[encoded data removed]",
      "text/plain": [
       "<Figure size 2000x1000 with 1 Axes>"
      ]
     },
     "metadata": {},
     "output_type": "display_data"
    }
   ],
   "source": [
    "df2 = get_data_for_visual_2()\n",
    "plot_confbands_visual_2(df2)"
   ]
  }
 ],
 "metadata": {
  "kernelspec": {
   "display_name": "Python 3 (ipykernel)",
   "language": "python",
   "name": "python3"
  },
  "language_info": {
   "codemirror_mode": {
    "name": "ipython",
    "version": 3
   },
   "file_extension": ".py",
   "mimetype": "text/x-python",
   "name": "python",
   "nbconvert_exporter": "python",
   "pygments_lexer": "ipython3",
   "version": "3.9.13"
  }
 },
 "nbformat": 4,
 "nbformat_minor": 5
}
